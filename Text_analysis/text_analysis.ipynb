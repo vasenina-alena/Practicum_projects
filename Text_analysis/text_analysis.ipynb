{
 "cells": [
  {
   "cell_type": "markdown",
   "metadata": {},
   "source": [
    "# Проект для «Викишоп»"
   ]
  },
  {
   "cell_type": "markdown",
   "metadata": {},
   "source": [
    "Интернет-магазин «Викишоп» запускает новый сервис. Теперь пользователи могут редактировать и дополнять описания товаров, как в вики-сообществах. То есть клиенты предлагают свои правки и комментируют изменения других. Магазину нужен инструмент, который будет искать токсичные комментарии и отправлять их на модерацию. \n",
    "\n",
    "Необходимо обучить модель классифицировать комментарии на позитивные и негативные. В распоряжении набор данных с разметкой о токсичности правок.\n",
    "\n",
    "Необходимо построить модель со значением метрики качества *F1* не меньше 0.75. \n",
    "\n",
    "**Описание данных**\n",
    "\n",
    "Данные находятся в файле `toxic_comments.csv`. Столбец *text* в нём содержит текст комментария, а *toxic* — целевой признак."
   ]
  },
  {
   "cell_type": "markdown",
   "metadata": {},
   "source": [
    "## Подготовка данных"
   ]
  },
  {
   "cell_type": "code",
   "execution_count": 1,
   "metadata": {},
   "outputs": [],
   "source": [
    "import pandas as pd\n",
    "import matplotlib.pyplot as plt\n",
    "\n",
    "import re\n",
    "import nltk \n",
    "from nltk.corpus import stopwords, wordnet\n",
    "stopwords = set(stopwords.words('english'))\n",
    "from nltk.stem import WordNetLemmatizer \n",
    "from sklearn.feature_extraction.text import TfidfVectorizer\n",
    "from tqdm import tqdm\n",
    "\n",
    "from sklearn.model_selection import train_test_split, GridSearchCV\n",
    "from sklearn.linear_model import LogisticRegression\n",
    "from sklearn.ensemble import RandomForestClassifier\n",
    "from sklearn.pipeline import Pipeline\n",
    "from sklearn.metrics import f1_score \n",
    "\n",
    "from catboost import CatBoostClassifier\n",
    "\n",
    "import warnings\n",
    "warnings.filterwarnings('ignore')\n",
    "\n",
    "RANDOM_STATE = 42 "
   ]
  },
  {
   "cell_type": "code",
   "execution_count": 2,
   "metadata": {},
   "outputs": [
    {
     "name": "stderr",
     "output_type": "stream",
     "text": [
      "[nltk_data] Downloading package punkt_tab to\n",
      "[nltk_data]     C:\\Users\\vasal\\AppData\\Roaming\\nltk_data...\n",
      "[nltk_data]   Package punkt_tab is already up-to-date!\n"
     ]
    },
    {
     "data": {
      "text/plain": [
       "True"
      ]
     },
     "execution_count": 2,
     "metadata": {},
     "output_type": "execute_result"
    }
   ],
   "source": [
    "nltk.download('punkt_tab')"
   ]
  },
  {
   "cell_type": "code",
   "execution_count": 3,
   "metadata": {},
   "outputs": [
    {
     "name": "stderr",
     "output_type": "stream",
     "text": [
      "[nltk_data] Downloading package wordnet to\n",
      "[nltk_data]     C:\\Users\\vasal\\AppData\\Roaming\\nltk_data...\n",
      "[nltk_data]   Package wordnet is already up-to-date!\n"
     ]
    },
    {
     "data": {
      "text/plain": [
       "True"
      ]
     },
     "execution_count": 3,
     "metadata": {},
     "output_type": "execute_result"
    }
   ],
   "source": [
    "nltk.download('wordnet')"
   ]
  },
  {
   "cell_type": "code",
   "execution_count": 4,
   "metadata": {},
   "outputs": [
    {
     "name": "stderr",
     "output_type": "stream",
     "text": [
      "[nltk_data] Downloading package averaged_perceptron_tagger_eng to\n",
      "[nltk_data]     C:\\Users\\vasal\\AppData\\Roaming\\nltk_data...\n",
      "[nltk_data]   Package averaged_perceptron_tagger_eng is already up-to-\n",
      "[nltk_data]       date!\n"
     ]
    },
    {
     "data": {
      "text/plain": [
       "True"
      ]
     },
     "execution_count": 4,
     "metadata": {},
     "output_type": "execute_result"
    }
   ],
   "source": [
    "nltk.download('averaged_perceptron_tagger_eng')"
   ]
  },
  {
   "cell_type": "code",
   "execution_count": 5,
   "metadata": {},
   "outputs": [
    {
     "name": "stdout",
     "output_type": "stream",
     "text": [
      "<class 'pandas.core.frame.DataFrame'>\n",
      "RangeIndex: 159292 entries, 0 to 159291\n",
      "Data columns (total 3 columns):\n",
      " #   Column      Non-Null Count   Dtype \n",
      "---  ------      --------------   ----- \n",
      " 0   Unnamed: 0  159292 non-null  int64 \n",
      " 1   text        159292 non-null  object\n",
      " 2   toxic       159292 non-null  int64 \n",
      "dtypes: int64(2), object(1)\n",
      "memory usage: 3.6+ MB\n"
     ]
    },
    {
     "data": {
      "text/html": [
       "<div>\n",
       "<style scoped>\n",
       "    .dataframe tbody tr th:only-of-type {\n",
       "        vertical-align: middle;\n",
       "    }\n",
       "\n",
       "    .dataframe tbody tr th {\n",
       "        vertical-align: top;\n",
       "    }\n",
       "\n",
       "    .dataframe thead th {\n",
       "        text-align: right;\n",
       "    }\n",
       "</style>\n",
       "<table border=\"1\" class=\"dataframe\">\n",
       "  <thead>\n",
       "    <tr style=\"text-align: right;\">\n",
       "      <th></th>\n",
       "      <th>Unnamed: 0</th>\n",
       "      <th>text</th>\n",
       "      <th>toxic</th>\n",
       "    </tr>\n",
       "  </thead>\n",
       "  <tbody>\n",
       "    <tr>\n",
       "      <th>159287</th>\n",
       "      <td>159446</td>\n",
       "      <td>\":::::And for the second time of asking, when ...</td>\n",
       "      <td>0</td>\n",
       "    </tr>\n",
       "    <tr>\n",
       "      <th>159288</th>\n",
       "      <td>159447</td>\n",
       "      <td>You should be ashamed of yourself \\n\\nThat is ...</td>\n",
       "      <td>0</td>\n",
       "    </tr>\n",
       "    <tr>\n",
       "      <th>159289</th>\n",
       "      <td>159448</td>\n",
       "      <td>Spitzer \\n\\nUmm, theres no actual article for ...</td>\n",
       "      <td>0</td>\n",
       "    </tr>\n",
       "    <tr>\n",
       "      <th>159290</th>\n",
       "      <td>159449</td>\n",
       "      <td>And it looks like it was actually you who put ...</td>\n",
       "      <td>0</td>\n",
       "    </tr>\n",
       "    <tr>\n",
       "      <th>159291</th>\n",
       "      <td>159450</td>\n",
       "      <td>\"\\nAnd ... I really don't think you understand...</td>\n",
       "      <td>0</td>\n",
       "    </tr>\n",
       "  </tbody>\n",
       "</table>\n",
       "</div>"
      ],
      "text/plain": [
       "        Unnamed: 0                                               text  toxic\n",
       "159287      159446  \":::::And for the second time of asking, when ...      0\n",
       "159288      159447  You should be ashamed of yourself \\n\\nThat is ...      0\n",
       "159289      159448  Spitzer \\n\\nUmm, theres no actual article for ...      0\n",
       "159290      159449  And it looks like it was actually you who put ...      0\n",
       "159291      159450  \"\\nAnd ... I really don't think you understand...      0"
      ]
     },
     "execution_count": 5,
     "metadata": {},
     "output_type": "execute_result"
    }
   ],
   "source": [
    "data = pd.read_csv('toxic_comments.csv')\n",
    "data.info()\n",
    "data.tail()"
   ]
  },
  {
   "cell_type": "markdown",
   "metadata": {},
   "source": [
    "Столбец \"Unnamed: 0\" не содержит никакой информации о тексте, его удалим"
   ]
  },
  {
   "cell_type": "code",
   "execution_count": 6,
   "metadata": {},
   "outputs": [
    {
     "name": "stdout",
     "output_type": "stream",
     "text": [
      "<class 'pandas.core.frame.DataFrame'>\n",
      "RangeIndex: 159292 entries, 0 to 159291\n",
      "Data columns (total 2 columns):\n",
      " #   Column  Non-Null Count   Dtype \n",
      "---  ------  --------------   ----- \n",
      " 0   text    159292 non-null  object\n",
      " 1   toxic   159292 non-null  int64 \n",
      "dtypes: int64(1), object(1)\n",
      "memory usage: 2.4+ MB\n"
     ]
    },
    {
     "data": {
      "text/html": [
       "<div>\n",
       "<style scoped>\n",
       "    .dataframe tbody tr th:only-of-type {\n",
       "        vertical-align: middle;\n",
       "    }\n",
       "\n",
       "    .dataframe tbody tr th {\n",
       "        vertical-align: top;\n",
       "    }\n",
       "\n",
       "    .dataframe thead th {\n",
       "        text-align: right;\n",
       "    }\n",
       "</style>\n",
       "<table border=\"1\" class=\"dataframe\">\n",
       "  <thead>\n",
       "    <tr style=\"text-align: right;\">\n",
       "      <th></th>\n",
       "      <th>text</th>\n",
       "      <th>toxic</th>\n",
       "    </tr>\n",
       "  </thead>\n",
       "  <tbody>\n",
       "    <tr>\n",
       "      <th>159287</th>\n",
       "      <td>\":::::And for the second time of asking, when ...</td>\n",
       "      <td>0</td>\n",
       "    </tr>\n",
       "    <tr>\n",
       "      <th>159288</th>\n",
       "      <td>You should be ashamed of yourself \\n\\nThat is ...</td>\n",
       "      <td>0</td>\n",
       "    </tr>\n",
       "    <tr>\n",
       "      <th>159289</th>\n",
       "      <td>Spitzer \\n\\nUmm, theres no actual article for ...</td>\n",
       "      <td>0</td>\n",
       "    </tr>\n",
       "    <tr>\n",
       "      <th>159290</th>\n",
       "      <td>And it looks like it was actually you who put ...</td>\n",
       "      <td>0</td>\n",
       "    </tr>\n",
       "    <tr>\n",
       "      <th>159291</th>\n",
       "      <td>\"\\nAnd ... I really don't think you understand...</td>\n",
       "      <td>0</td>\n",
       "    </tr>\n",
       "  </tbody>\n",
       "</table>\n",
       "</div>"
      ],
      "text/plain": [
       "                                                     text  toxic\n",
       "159287  \":::::And for the second time of asking, when ...      0\n",
       "159288  You should be ashamed of yourself \\n\\nThat is ...      0\n",
       "159289  Spitzer \\n\\nUmm, theres no actual article for ...      0\n",
       "159290  And it looks like it was actually you who put ...      0\n",
       "159291  \"\\nAnd ... I really don't think you understand...      0"
      ]
     },
     "execution_count": 6,
     "metadata": {},
     "output_type": "execute_result"
    }
   ],
   "source": [
    "data = data.drop('Unnamed: 0', axis=1)\n",
    "data.info()\n",
    "data.tail()"
   ]
  },
  {
   "cell_type": "markdown",
   "metadata": {},
   "source": [
    "Посмотрим есть ли повторяющиеся строки и при необходимости удалим их"
   ]
  },
  {
   "cell_type": "code",
   "execution_count": 7,
   "metadata": {},
   "outputs": [
    {
     "name": "stdout",
     "output_type": "stream",
     "text": [
      "0\n"
     ]
    }
   ],
   "source": [
    "print(data.duplicated().sum())"
   ]
  },
  {
   "cell_type": "markdown",
   "metadata": {},
   "source": [
    "Повторяющихся строк нет"
   ]
  },
  {
   "cell_type": "markdown",
   "metadata": {},
   "source": [
    "Оценим распределение значений целевого признака"
   ]
  },
  {
   "cell_type": "code",
   "execution_count": 8,
   "metadata": {
    "scrolled": true
   },
   "outputs": [
    {
     "data": {
      "image/png": "[encoded data removed]",
      "text/plain": [
       "<Figure size 500x200 with 1 Axes>"
      ]
     },
     "metadata": {},
     "output_type": "display_data"
    }
   ],
   "source": [
    "plt.figure(figsize=(5, 2))\n",
    "data['toxic'].value_counts(normalize = (0,1)).plot.bar()\n",
    "plt.title('Распределение целевого признака \\n', fontsize=10)\n",
    "plt.grid()"
   ]
  },
  {
   "cell_type": "markdown",
   "metadata": {},
   "source": [
    "Целевой признак представлен неравномерно: класс 1 составляет ~ 10% от общего числа значений. Это необходимо будет учесть при обучении модели классификации.\n",
    "\n",
    "Выполним леммитизацию данных"
   ]
  },
  {
   "cell_type": "code",
   "execution_count": 9,
   "metadata": {},
   "outputs": [],
   "source": [
    "def clean_text(text):\n",
    "    clean_text = re.sub(r'[^a-zA-Z]', ' ', text).lower()\n",
    "    clean_text = \"\".join(clean_text)\n",
    "    return clean_text"
   ]
  },
  {
   "cell_type": "code",
   "execution_count": 10,
   "metadata": {},
   "outputs": [],
   "source": [
    "def get_wordnet_pos(word):\n",
    "    tag = nltk.pos_tag([word])[0][1][0].upper()\n",
    "    tag_dict = {\"J\": wordnet.ADJ,\n",
    "                \"N\": wordnet.NOUN,\n",
    "                \"V\": wordnet.VERB,\n",
    "                \"R\": wordnet.ADV}\n",
    "    return tag_dict.get(tag, wordnet.NOUN)"
   ]
  },
  {
   "cell_type": "code",
   "execution_count": 11,
   "metadata": {},
   "outputs": [],
   "source": [
    "lemmatizer = WordNetLemmatizer()\n",
    "\n",
    "def lemmatize(text):\n",
    "    lemm_list = []\n",
    "    for i in nltk.word_tokenize(text):\n",
    "        lemm_word = lemmatizer.lemmatize(i, get_wordnet_pos(i))\n",
    "        lemm_list.append(lemm_word)\n",
    "    lemm_text = \" \".join(lemm_list)\n",
    "    return lemm_text"
   ]
  },
  {
   "cell_type": "code",
   "execution_count": 12,
   "metadata": {
    "scrolled": true
   },
   "outputs": [
    {
     "name": "stderr",
     "output_type": "stream",
     "text": [
      "100%|█████████████████████████████████████████████████████████████████████████| 159292/159292 [08:53<00:00, 298.66it/s]\n"
     ]
    },
    {
     "data": {
      "text/html": [
       "<div>\n",
       "<style scoped>\n",
       "    .dataframe tbody tr th:only-of-type {\n",
       "        vertical-align: middle;\n",
       "    }\n",
       "\n",
       "    .dataframe tbody tr th {\n",
       "        vertical-align: top;\n",
       "    }\n",
       "\n",
       "    .dataframe thead th {\n",
       "        text-align: right;\n",
       "    }\n",
       "</style>\n",
       "<table border=\"1\" class=\"dataframe\">\n",
       "  <thead>\n",
       "    <tr style=\"text-align: right;\">\n",
       "      <th></th>\n",
       "      <th>text</th>\n",
       "      <th>toxic</th>\n",
       "      <th>lemmatize</th>\n",
       "    </tr>\n",
       "  </thead>\n",
       "  <tbody>\n",
       "    <tr>\n",
       "      <th>0</th>\n",
       "      <td>Explanation\\nWhy the edits made under my usern...</td>\n",
       "      <td>0</td>\n",
       "      <td>explanation why the edits make under my userna...</td>\n",
       "    </tr>\n",
       "    <tr>\n",
       "      <th>1</th>\n",
       "      <td>D'aww! He matches this background colour I'm s...</td>\n",
       "      <td>0</td>\n",
       "      <td>d aww he match this background colour i m seem...</td>\n",
       "    </tr>\n",
       "    <tr>\n",
       "      <th>2</th>\n",
       "      <td>Hey man, I'm really not trying to edit war. It...</td>\n",
       "      <td>0</td>\n",
       "      <td>hey man i m really not try to edit war it s ju...</td>\n",
       "    </tr>\n",
       "    <tr>\n",
       "      <th>3</th>\n",
       "      <td>\"\\nMore\\nI can't make any real suggestions on ...</td>\n",
       "      <td>0</td>\n",
       "      <td>more i can t make any real suggestion on impro...</td>\n",
       "    </tr>\n",
       "    <tr>\n",
       "      <th>4</th>\n",
       "      <td>You, sir, are my hero. Any chance you remember...</td>\n",
       "      <td>0</td>\n",
       "      <td>you sir be my hero any chance you remember wha...</td>\n",
       "    </tr>\n",
       "  </tbody>\n",
       "</table>\n",
       "</div>"
      ],
      "text/plain": [
       "                                                text  toxic  \\\n",
       "0  Explanation\\nWhy the edits made under my usern...      0   \n",
       "1  D'aww! He matches this background colour I'm s...      0   \n",
       "2  Hey man, I'm really not trying to edit war. It...      0   \n",
       "3  \"\\nMore\\nI can't make any real suggestions on ...      0   \n",
       "4  You, sir, are my hero. Any chance you remember...      0   \n",
       "\n",
       "                                           lemmatize  \n",
       "0  explanation why the edits make under my userna...  \n",
       "1  d aww he match this background colour i m seem...  \n",
       "2  hey man i m really not try to edit war it s ju...  \n",
       "3  more i can t make any real suggestion on impro...  \n",
       "4  you sir be my hero any chance you remember wha...  "
      ]
     },
     "execution_count": 12,
     "metadata": {},
     "output_type": "execute_result"
    }
   ],
   "source": [
    "corpus = list(data['text'])\n",
    "\n",
    "lemm=[]\n",
    "for i in tqdm(range(len(corpus))):\n",
    "    lemm.append(lemmatize(clean_text(corpus[i])))\n",
    "data['lemmatize']=pd.Series(lemm, index=data.index)\n",
    "data.head()"
   ]
  },
  {
   "cell_type": "markdown",
   "metadata": {},
   "source": [
    "Разбиваем данные на тренировочную и тестовую выборки с учетом неравномерного распределения классов целевого признака. Валидационную не выделяем в связи с применением в паплайне кросс-валидации "
   ]
  },
  {
   "cell_type": "code",
   "execution_count": 13,
   "metadata": {},
   "outputs": [],
   "source": [
    "data = data.drop(['text'], axis=1)"
   ]
  },
  {
   "cell_type": "code",
   "execution_count": 14,
   "metadata": {},
   "outputs": [],
   "source": [
    "features = data.drop(['toxic'], axis = 1)\n",
    "target = data['toxic']\n",
    "\n",
    "features_train, features_test, target_train, target_test = train_test_split(\n",
    "    features, target, test_size = 0.25, shuffle=True,\n",
    "    random_state = RANDOM_STATE, stratify=target)"
   ]
  },
  {
   "cell_type": "markdown",
   "metadata": {},
   "source": [
    "## Обучение"
   ]
  },
  {
   "cell_type": "code",
   "execution_count": 15,
   "metadata": {},
   "outputs": [],
   "source": [
    "vectoriser = TfidfVectorizer(stop_words=list(stopwords))\n",
    "\n",
    "pipe_final = Pipeline([\n",
    "    ('vectoriser', vectoriser), \n",
    "    ('models', LogisticRegression()),\n",
    "])"
   ]
  },
  {
   "cell_type": "code",
   "execution_count": 16,
   "metadata": {},
   "outputs": [],
   "source": [
    "param = [\n",
    "    {\n",
    "        'models': [LogisticRegression()],\n",
    "        'models__C': [0.1, 1.0, 10.0]\n",
    "    },\n",
    "    {\n",
    "        'models': [RandomForestClassifier(random_state=RANDOM_STATE)],\n",
    "        'models__n_estimators': [50, 100],\n",
    "        'models__max_depth': [3, 5]\n",
    "    },\n",
    "    {\n",
    "        'models': [CatBoostClassifier(random_state=RANDOM_STATE)],\n",
    "        'models__iterations': [50, 100]\n",
    "    }\n",
    "] "
   ]
  },
  {
   "cell_type": "code",
   "execution_count": 17,
   "metadata": {},
   "outputs": [],
   "source": [
    "grid_search = GridSearchCV(pipe_final, param, scoring='f1', n_jobs=-1)"
   ]
  },
  {
   "cell_type": "code",
   "execution_count": 18,
   "metadata": {
    "scrolled": true
   },
   "outputs": [
    {
     "data": {
      "text/html": [
       "<style>#sk-container-id-1 {\n",
       "  /* Definition of color scheme common for light and dark mode */\n",
       "  --sklearn-color-text: black;\n",
       "  --sklearn-color-line: gray;\n",
       "  /* Definition of color scheme for unfitted estimators */\n",
       "  --sklearn-color-unfitted-level-0: #fff5e6;\n",
       "  --sklearn-color-unfitted-level-1: #f6e4d2;\n",
       "  --sklearn-color-unfitted-level-2: #ffe0b3;\n",
       "  --sklearn-color-unfitted-level-3: chocolate;\n",
       "  /* Definition of color scheme for fitted estimators */\n",
       "  --sklearn-color-fitted-level-0: #f0f8ff;\n",
       "  --sklearn-color-fitted-level-1: #d4ebff;\n",
       "  --sklearn-color-fitted-level-2: #b3dbfd;\n",
       "  --sklearn-color-fitted-level-3: cornflowerblue;\n",
       "\n",
       "  /* Specific color for light theme */\n",
       "  --sklearn-color-text-on-default-background: var(--sg-text-color, var(--theme-code-foreground, var(--jp-content-font-color1, black)));\n",
       "  --sklearn-color-background: var(--sg-background-color, var(--theme-background, var(--jp-layout-color0, white)));\n",
       "  --sklearn-color-border-box: var(--sg-text-color, var(--theme-code-foreground, var(--jp-content-font-color1, black)));\n",
       "  --sklearn-color-icon: #696969;\n",
       "\n",
       "  @media (prefers-color-scheme: dark) {\n",
       "    /* Redefinition of color scheme for dark theme */\n",
       "    --sklearn-color-text-on-default-background: var(--sg-text-color, var(--theme-code-foreground, var(--jp-content-font-color1, white)));\n",
       "    --sklearn-color-background: var(--sg-background-color, var(--theme-background, var(--jp-layout-color0, #111)));\n",
       "    --sklearn-color-border-box: var(--sg-text-color, var(--theme-code-foreground, var(--jp-content-font-color1, white)));\n",
       "    --sklearn-color-icon: #878787;\n",
       "  }\n",
       "}\n",
       "\n",
       "#sk-container-id-1 {\n",
       "  color: var(--sklearn-color-text);\n",
       "}\n",
       "\n",
       "#sk-container-id-1 pre {\n",
       "  padding: 0;\n",
       "}\n",
       "\n",
       "#sk-container-id-1 input.sk-hidden--visually {\n",
       "  border: 0;\n",
       "  clip: rect(1px 1px 1px 1px);\n",
       "  clip: rect(1px, 1px, 1px, 1px);\n",
       "  height: 1px;\n",
       "  margin: -1px;\n",
       "  overflow: hidden;\n",
       "  padding: 0;\n",
       "  position: absolute;\n",
       "  width: 1px;\n",
       "}\n",
       "\n",
       "#sk-container-id-1 div.sk-dashed-wrapped {\n",
       "  border: 1px dashed var(--sklearn-color-line);\n",
       "  margin: 0 0.4em 0.5em 0.4em;\n",
       "  box-sizing: border-box;\n",
       "  padding-bottom: 0.4em;\n",
       "  background-color: var(--sklearn-color-background);\n",
       "}\n",
       "\n",
       "#sk-container-id-1 div.sk-container {\n",
       "  /* jupyter's `normalize.less` sets `[hidden] { display: none; }`\n",
       "     but bootstrap.min.css set `[hidden] { display: none !important; }`\n",
       "     so we also need the `!important` here to be able to override the\n",
       "     default hidden behavior on the sphinx rendered scikit-learn.org.\n",
       "     See: https://github.com/scikit-learn/scikit-learn/issues/21755 */\n",
       "  display: inline-block !important;\n",
       "  position: relative;\n",
       "}\n",
       "\n",
       "#sk-container-id-1 div.sk-text-repr-fallback {\n",
       "  display: none;\n",
       "}\n",
       "\n",
       "div.sk-parallel-item,\n",
       "div.sk-serial,\n",
       "div.sk-item {\n",
       "  /* draw centered vertical line to link estimators */\n",
       "  background-image: linear-gradient(var(--sklearn-color-text-on-default-background), var(--sklearn-color-text-on-default-background));\n",
       "  background-size: 2px 100%;\n",
       "  background-repeat: no-repeat;\n",
       "  background-position: center center;\n",
       "}\n",
       "\n",
       "/* Parallel-specific style estimator block */\n",
       "\n",
       "#sk-container-id-1 div.sk-parallel-item::after {\n",
       "  content: \"\";\n",
       "  width: 100%;\n",
       "  border-bottom: 2px solid var(--sklearn-color-text-on-default-background);\n",
       "  flex-grow: 1;\n",
       "}\n",
       "\n",
       "#sk-container-id-1 div.sk-parallel {\n",
       "  display: flex;\n",
       "  align-items: stretch;\n",
       "  justify-content: center;\n",
       "  background-color: var(--sklearn-color-background);\n",
       "  position: relative;\n",
       "}\n",
       "\n",
       "#sk-container-id-1 div.sk-parallel-item {\n",
       "  display: flex;\n",
       "  flex-direction: column;\n",
       "}\n",
       "\n",
       "#sk-container-id-1 div.sk-parallel-item:first-child::after {\n",
       "  align-self: flex-end;\n",
       "  width: 50%;\n",
       "}\n",
       "\n",
       "#sk-container-id-1 div.sk-parallel-item:last-child::after {\n",
       "  align-self: flex-start;\n",
       "  width: 50%;\n",
       "}\n",
       "\n",
       "#sk-container-id-1 div.sk-parallel-item:only-child::after {\n",
       "  width: 0;\n",
       "}\n",
       "\n",
       "/* Serial-specific style estimator block */\n",
       "\n",
       "#sk-container-id-1 div.sk-serial {\n",
       "  display: flex;\n",
       "  flex-direction: column;\n",
       "  align-items: center;\n",
       "  background-color: var(--sklearn-color-background);\n",
       "  padding-right: 1em;\n",
       "  padding-left: 1em;\n",
       "}\n",
       "\n",
       "\n",
       "/* Toggleable style: style used for estimator/Pipeline/ColumnTransformer box that is\n",
       "clickable and can be expanded/collapsed.\n",
       "- Pipeline and ColumnTransformer use this feature and define the default style\n",
       "- Estimators will overwrite some part of the style using the `sk-estimator` class\n",
       "*/\n",
       "\n",
       "/* Pipeline and ColumnTransformer style (default) */\n",
       "\n",
       "#sk-container-id-1 div.sk-toggleable {\n",
       "  /* Default theme specific background. It is overwritten whether we have a\n",
       "  specific estimator or a Pipeline/ColumnTransformer */\n",
       "  background-color: var(--sklearn-color-background);\n",
       "}\n",
       "\n",
       "/* Toggleable label */\n",
       "#sk-container-id-1 label.sk-toggleable__label {\n",
       "  cursor: pointer;\n",
       "  display: block;\n",
       "  width: 100%;\n",
       "  margin-bottom: 0;\n",
       "  padding: 0.5em;\n",
       "  box-sizing: border-box;\n",
       "  text-align: center;\n",
       "}\n",
       "\n",
       "#sk-container-id-1 label.sk-toggleable__label-arrow:before {\n",
       "  /* Arrow on the left of the label */\n",
       "  content: \"▸\";\n",
       "  float: left;\n",
       "  margin-right: 0.25em;\n",
       "  color: var(--sklearn-color-icon);\n",
       "}\n",
       "\n",
       "#sk-container-id-1 label.sk-toggleable__label-arrow:hover:before {\n",
       "  color: var(--sklearn-color-text);\n",
       "}\n",
       "\n",
       "/* Toggleable content - dropdown */\n",
       "\n",
       "#sk-container-id-1 div.sk-toggleable__content {\n",
       "  max-height: 0;\n",
       "  max-width: 0;\n",
       "  overflow: hidden;\n",
       "  text-align: left;\n",
       "  /* unfitted */\n",
       "  background-color: var(--sklearn-color-unfitted-level-0);\n",
       "}\n",
       "\n",
       "#sk-container-id-1 div.sk-toggleable__content.fitted {\n",
       "  /* fitted */\n",
       "  background-color: var(--sklearn-color-fitted-level-0);\n",
       "}\n",
       "\n",
       "#sk-container-id-1 div.sk-toggleable__content pre {\n",
       "  margin: 0.2em;\n",
       "  border-radius: 0.25em;\n",
       "  color: var(--sklearn-color-text);\n",
       "  /* unfitted */\n",
       "  background-color: var(--sklearn-color-unfitted-level-0);\n",
       "}\n",
       "\n",
       "#sk-container-id-1 div.sk-toggleable__content.fitted pre {\n",
       "  /* unfitted */\n",
       "  background-color: var(--sklearn-color-fitted-level-0);\n",
       "}\n",
       "\n",
       "#sk-container-id-1 input.sk-toggleable__control:checked~div.sk-toggleable__content {\n",
       "  /* Expand drop-down */\n",
       "  max-height: 200px;\n",
       "  max-width: 100%;\n",
       "  overflow: auto;\n",
       "}\n",
       "\n",
       "#sk-container-id-1 input.sk-toggleable__control:checked~label.sk-toggleable__label-arrow:before {\n",
       "  content: \"▾\";\n",
       "}\n",
       "\n",
       "/* Pipeline/ColumnTransformer-specific style */\n",
       "\n",
       "#sk-container-id-1 div.sk-label input.sk-toggleable__control:checked~label.sk-toggleable__label {\n",
       "  color: var(--sklearn-color-text);\n",
       "  background-color: var(--sklearn-color-unfitted-level-2);\n",
       "}\n",
       "\n",
       "#sk-container-id-1 div.sk-label.fitted input.sk-toggleable__control:checked~label.sk-toggleable__label {\n",
       "  background-color: var(--sklearn-color-fitted-level-2);\n",
       "}\n",
       "\n",
       "/* Estimator-specific style */\n",
       "\n",
       "/* Colorize estimator box */\n",
       "#sk-container-id-1 div.sk-estimator input.sk-toggleable__control:checked~label.sk-toggleable__label {\n",
       "  /* unfitted */\n",
       "  background-color: var(--sklearn-color-unfitted-level-2);\n",
       "}\n",
       "\n",
       "#sk-container-id-1 div.sk-estimator.fitted input.sk-toggleable__control:checked~label.sk-toggleable__label {\n",
       "  /* fitted */\n",
       "  background-color: var(--sklearn-color-fitted-level-2);\n",
       "}\n",
       "\n",
       "#sk-container-id-1 div.sk-label label.sk-toggleable__label,\n",
       "#sk-container-id-1 div.sk-label label {\n",
       "  /* The background is the default theme color */\n",
       "  color: var(--sklearn-color-text-on-default-background);\n",
       "}\n",
       "\n",
       "/* On hover, darken the color of the background */\n",
       "#sk-container-id-1 div.sk-label:hover label.sk-toggleable__label {\n",
       "  color: var(--sklearn-color-text);\n",
       "  background-color: var(--sklearn-color-unfitted-level-2);\n",
       "}\n",
       "\n",
       "/* Label box, darken color on hover, fitted */\n",
       "#sk-container-id-1 div.sk-label.fitted:hover label.sk-toggleable__label.fitted {\n",
       "  color: var(--sklearn-color-text);\n",
       "  background-color: var(--sklearn-color-fitted-level-2);\n",
       "}\n",
       "\n",
       "/* Estimator label */\n",
       "\n",
       "#sk-container-id-1 div.sk-label label {\n",
       "  font-family: monospace;\n",
       "  font-weight: bold;\n",
       "  display: inline-block;\n",
       "  line-height: 1.2em;\n",
       "}\n",
       "\n",
       "#sk-container-id-1 div.sk-label-container {\n",
       "  text-align: center;\n",
       "}\n",
       "\n",
       "/* Estimator-specific */\n",
       "#sk-container-id-1 div.sk-estimator {\n",
       "  font-family: monospace;\n",
       "  border: 1px dotted var(--sklearn-color-border-box);\n",
       "  border-radius: 0.25em;\n",
       "  box-sizing: border-box;\n",
       "  margin-bottom: 0.5em;\n",
       "  /* unfitted */\n",
       "  background-color: var(--sklearn-color-unfitted-level-0);\n",
       "}\n",
       "\n",
       "#sk-container-id-1 div.sk-estimator.fitted {\n",
       "  /* fitted */\n",
       "  background-color: var(--sklearn-color-fitted-level-0);\n",
       "}\n",
       "\n",
       "/* on hover */\n",
       "#sk-container-id-1 div.sk-estimator:hover {\n",
       "  /* unfitted */\n",
       "  background-color: var(--sklearn-color-unfitted-level-2);\n",
       "}\n",
       "\n",
       "#sk-container-id-1 div.sk-estimator.fitted:hover {\n",
       "  /* fitted */\n",
       "  background-color: var(--sklearn-color-fitted-level-2);\n",
       "}\n",
       "\n",
       "/* Specification for estimator info (e.g. \"i\" and \"?\") */\n",
       "\n",
       "/* Common style for \"i\" and \"?\" */\n",
       "\n",
       ".sk-estimator-doc-link,\n",
       "a:link.sk-estimator-doc-link,\n",
       "a:visited.sk-estimator-doc-link {\n",
       "  float: right;\n",
       "  font-size: smaller;\n",
       "  line-height: 1em;\n",
       "  font-family: monospace;\n",
       "  background-color: var(--sklearn-color-background);\n",
       "  border-radius: 1em;\n",
       "  height: 1em;\n",
       "  width: 1em;\n",
       "  text-decoration: none !important;\n",
       "  margin-left: 1ex;\n",
       "  /* unfitted */\n",
       "  border: var(--sklearn-color-unfitted-level-1) 1pt solid;\n",
       "  color: var(--sklearn-color-unfitted-level-1);\n",
       "}\n",
       "\n",
       ".sk-estimator-doc-link.fitted,\n",
       "a:link.sk-estimator-doc-link.fitted,\n",
       "a:visited.sk-estimator-doc-link.fitted {\n",
       "  /* fitted */\n",
       "  border: var(--sklearn-color-fitted-level-1) 1pt solid;\n",
       "  color: var(--sklearn-color-fitted-level-1);\n",
       "}\n",
       "\n",
       "/* On hover */\n",
       "div.sk-estimator:hover .sk-estimator-doc-link:hover,\n",
       ".sk-estimator-doc-link:hover,\n",
       "div.sk-label-container:hover .sk-estimator-doc-link:hover,\n",
       ".sk-estimator-doc-link:hover {\n",
       "  /* unfitted */\n",
       "  background-color: var(--sklearn-color-unfitted-level-3);\n",
       "  color: var(--sklearn-color-background);\n",
       "  text-decoration: none;\n",
       "}\n",
       "\n",
       "div.sk-estimator.fitted:hover .sk-estimator-doc-link.fitted:hover,\n",
       ".sk-estimator-doc-link.fitted:hover,\n",
       "div.sk-label-container:hover .sk-estimator-doc-link.fitted:hover,\n",
       ".sk-estimator-doc-link.fitted:hover {\n",
       "  /* fitted */\n",
       "  background-color: var(--sklearn-color-fitted-level-3);\n",
       "  color: var(--sklearn-color-background);\n",
       "  text-decoration: none;\n",
       "}\n",
       "\n",
       "/* Span, style for the box shown on hovering the info icon */\n",
       ".sk-estimator-doc-link span {\n",
       "  display: none;\n",
       "  z-index: 9999;\n",
       "  position: relative;\n",
       "  font-weight: normal;\n",
       "  right: .2ex;\n",
       "  padding: .5ex;\n",
       "  margin: .5ex;\n",
       "  width: min-content;\n",
       "  min-width: 20ex;\n",
       "  max-width: 50ex;\n",
       "  color: var(--sklearn-color-text);\n",
       "  box-shadow: 2pt 2pt 4pt #999;\n",
       "  /* unfitted */\n",
       "  background: var(--sklearn-color-unfitted-level-0);\n",
       "  border: .5pt solid var(--sklearn-color-unfitted-level-3);\n",
       "}\n",
       "\n",
       ".sk-estimator-doc-link.fitted span {\n",
       "  /* fitted */\n",
       "  background: var(--sklearn-color-fitted-level-0);\n",
       "  border: var(--sklearn-color-fitted-level-3);\n",
       "}\n",
       "\n",
       ".sk-estimator-doc-link:hover span {\n",
       "  display: block;\n",
       "}\n",
       "\n",
       "/* \"?\"-specific style due to the `<a>` HTML tag */\n",
       "\n",
       "#sk-container-id-1 a.estimator_doc_link {\n",
       "  float: right;\n",
       "  font-size: 1rem;\n",
       "  line-height: 1em;\n",
       "  font-family: monospace;\n",
       "  background-color: var(--sklearn-color-background);\n",
       "  border-radius: 1rem;\n",
       "  height: 1rem;\n",
       "  width: 1rem;\n",
       "  text-decoration: none;\n",
       "  /* unfitted */\n",
       "  color: var(--sklearn-color-unfitted-level-1);\n",
       "  border: var(--sklearn-color-unfitted-level-1) 1pt solid;\n",
       "}\n",
       "\n",
       "#sk-container-id-1 a.estimator_doc_link.fitted {\n",
       "  /* fitted */\n",
       "  border: var(--sklearn-color-fitted-level-1) 1pt solid;\n",
       "  color: var(--sklearn-color-fitted-level-1);\n",
       "}\n",
       "\n",
       "/* On hover */\n",
       "#sk-container-id-1 a.estimator_doc_link:hover {\n",
       "  /* unfitted */\n",
       "  background-color: var(--sklearn-color-unfitted-level-3);\n",
       "  color: var(--sklearn-color-background);\n",
       "  text-decoration: none;\n",
       "}\n",
       "\n",
       "#sk-container-id-1 a.estimator_doc_link.fitted:hover {\n",
       "  /* fitted */\n",
       "  background-color: var(--sklearn-color-fitted-level-3);\n",
       "}\n",
       "</style><div id=\"sk-container-id-1\" class=\"sk-top-container\"><div class=\"sk-text-repr-fallback\"><pre>GridSearchCV(estimator=Pipeline(steps=[(&#x27;vectoriser&#x27;,\n",
       "                                        TfidfVectorizer(stop_words=[&#x27;not&#x27;,\n",
       "                                                                    &#x27;how&#x27;, &#x27;it&#x27;,\n",
       "                                                                    &quot;you&#x27;re&quot;,\n",
       "                                                                    &#x27;d&#x27;, &#x27;then&#x27;,\n",
       "                                                                    &#x27;yours&#x27;,\n",
       "                                                                    &#x27;are&#x27;,\n",
       "                                                                    &#x27;more&#x27;,\n",
       "                                                                    &#x27;before&#x27;,\n",
       "                                                                    &#x27;some&#x27;,\n",
       "                                                                    &#x27;no&#x27;,\n",
       "                                                                    &quot;it&#x27;ll&quot;,\n",
       "                                                                    &#x27;does&#x27;,\n",
       "                                                                    &#x27;about&#x27;,\n",
       "                                                                    &#x27;any&#x27;,\n",
       "                                                                    &quot;couldn&#x27;t&quot;,\n",
       "                                                                    &#x27;nor&#x27;,\n",
       "                                                                    &#x27;once&#x27;,\n",
       "                                                                    &#x27;shouldn&#x27;,\n",
       "                                                                    &quot;that&#x27;ll&quot;,\n",
       "                                                                    &#x27;am&#x27;,\n",
       "                                                                    &quot;you&#x27;d&quot;,\n",
       "                                                                    &#x27;s&#x27;,\n",
       "                                                                    &#x27;until&#x27;,\n",
       "                                                                    &#x27;whom&#x27;,\n",
       "                                                                    &#x27;didn&#x27;,\n",
       "                                                                    &#x27;here&#x27;,\n",
       "                                                                    &#x27;weren&#x27;,\n",
       "                                                                    &#x27;by&#x27;, ...])),\n",
       "                                       (&#x27;models&#x27;, LogisticRegression())]),\n",
       "             n_jobs=-1,\n",
       "             param_grid=[{&#x27;models&#x27;: [LogisticRegression()],\n",
       "                          &#x27;models__C&#x27;: [0.1, 1.0, 10.0]},\n",
       "                         {&#x27;models&#x27;: [RandomForestClassifier(random_state=42)],\n",
       "                          &#x27;models__max_depth&#x27;: [3, 5],\n",
       "                          &#x27;models__n_estimators&#x27;: [50, 100]},\n",
       "                         {&#x27;models&#x27;: [&lt;catboost.core.CatBoostClassifier object at 0x000001F48FEE5E20&gt;],\n",
       "                          &#x27;models__iterations&#x27;: [50, 100]}],\n",
       "             scoring=&#x27;f1&#x27;)</pre><b>In a Jupyter environment, please rerun this cell to show the HTML representation or trust the notebook. <br />On GitHub, the HTML representation is unable to render, please try loading this page with nbviewer.org.</b></div><div class=\"sk-container\" hidden><div class=\"sk-item sk-dashed-wrapped\"><div class=\"sk-label-container\"><div class=\"sk-label fitted sk-toggleable\"><input class=\"sk-toggleable__control sk-hidden--visually\" id=\"sk-estimator-id-1\" type=\"checkbox\" ><label for=\"sk-estimator-id-1\" class=\"sk-toggleable__label fitted sk-toggleable__label-arrow fitted\">&nbsp;&nbsp;GridSearchCV<a class=\"sk-estimator-doc-link fitted\" rel=\"noreferrer\" target=\"_blank\" href=\"https://scikit-learn.org/1.5/modules/generated/sklearn.model_selection.GridSearchCV.html\">?<span>Documentation for GridSearchCV</span></a><span class=\"sk-estimator-doc-link fitted\">i<span>Fitted</span></span></label><div class=\"sk-toggleable__content fitted\"><pre>GridSearchCV(estimator=Pipeline(steps=[(&#x27;vectoriser&#x27;,\n",
       "                                        TfidfVectorizer(stop_words=[&#x27;not&#x27;,\n",
       "                                                                    &#x27;how&#x27;, &#x27;it&#x27;,\n",
       "                                                                    &quot;you&#x27;re&quot;,\n",
       "                                                                    &#x27;d&#x27;, &#x27;then&#x27;,\n",
       "                                                                    &#x27;yours&#x27;,\n",
       "                                                                    &#x27;are&#x27;,\n",
       "                                                                    &#x27;more&#x27;,\n",
       "                                                                    &#x27;before&#x27;,\n",
       "                                                                    &#x27;some&#x27;,\n",
       "                                                                    &#x27;no&#x27;,\n",
       "                                                                    &quot;it&#x27;ll&quot;,\n",
       "                                                                    &#x27;does&#x27;,\n",
       "                                                                    &#x27;about&#x27;,\n",
       "                                                                    &#x27;any&#x27;,\n",
       "                                                                    &quot;couldn&#x27;t&quot;,\n",
       "                                                                    &#x27;nor&#x27;,\n",
       "                                                                    &#x27;once&#x27;,\n",
       "                                                                    &#x27;shouldn&#x27;,\n",
       "                                                                    &quot;that&#x27;ll&quot;,\n",
       "                                                                    &#x27;am&#x27;,\n",
       "                                                                    &quot;you&#x27;d&quot;,\n",
       "                                                                    &#x27;s&#x27;,\n",
       "                                                                    &#x27;until&#x27;,\n",
       "                                                                    &#x27;whom&#x27;,\n",
       "                                                                    &#x27;didn&#x27;,\n",
       "                                                                    &#x27;here&#x27;,\n",
       "                                                                    &#x27;weren&#x27;,\n",
       "                                                                    &#x27;by&#x27;, ...])),\n",
       "                                       (&#x27;models&#x27;, LogisticRegression())]),\n",
       "             n_jobs=-1,\n",
       "             param_grid=[{&#x27;models&#x27;: [LogisticRegression()],\n",
       "                          &#x27;models__C&#x27;: [0.1, 1.0, 10.0]},\n",
       "                         {&#x27;models&#x27;: [RandomForestClassifier(random_state=42)],\n",
       "                          &#x27;models__max_depth&#x27;: [3, 5],\n",
       "                          &#x27;models__n_estimators&#x27;: [50, 100]},\n",
       "                         {&#x27;models&#x27;: [&lt;catboost.core.CatBoostClassifier object at 0x000001F48FEE5E20&gt;],\n",
       "                          &#x27;models__iterations&#x27;: [50, 100]}],\n",
       "             scoring=&#x27;f1&#x27;)</pre></div> </div></div><div class=\"sk-parallel\"><div class=\"sk-parallel-item\"><div class=\"sk-item\"><div class=\"sk-label-container\"><div class=\"sk-label fitted sk-toggleable\"><input class=\"sk-toggleable__control sk-hidden--visually\" id=\"sk-estimator-id-2\" type=\"checkbox\" ><label for=\"sk-estimator-id-2\" class=\"sk-toggleable__label fitted sk-toggleable__label-arrow fitted\">best_estimator_: Pipeline</label><div class=\"sk-toggleable__content fitted\"><pre>Pipeline(steps=[(&#x27;vectoriser&#x27;,\n",
       "                 TfidfVectorizer(stop_words=[&#x27;not&#x27;, &#x27;how&#x27;, &#x27;it&#x27;, &quot;you&#x27;re&quot;, &#x27;d&#x27;,\n",
       "                                             &#x27;then&#x27;, &#x27;yours&#x27;, &#x27;are&#x27;, &#x27;more&#x27;,\n",
       "                                             &#x27;before&#x27;, &#x27;some&#x27;, &#x27;no&#x27;, &quot;it&#x27;ll&quot;,\n",
       "                                             &#x27;does&#x27;, &#x27;about&#x27;, &#x27;any&#x27;, &quot;couldn&#x27;t&quot;,\n",
       "                                             &#x27;nor&#x27;, &#x27;once&#x27;, &#x27;shouldn&#x27;,\n",
       "                                             &quot;that&#x27;ll&quot;, &#x27;am&#x27;, &quot;you&#x27;d&quot;, &#x27;s&#x27;,\n",
       "                                             &#x27;until&#x27;, &#x27;whom&#x27;, &#x27;didn&#x27;, &#x27;here&#x27;,\n",
       "                                             &#x27;weren&#x27;, &#x27;by&#x27;, ...])),\n",
       "                (&#x27;models&#x27;, LogisticRegression(C=10.0))])</pre></div> </div></div><div class=\"sk-serial\"><div class=\"sk-item\"><div class=\"sk-serial\"><div class=\"sk-item\"><div class=\"sk-estimator fitted sk-toggleable\"><input class=\"sk-toggleable__control sk-hidden--visually\" id=\"sk-estimator-id-3\" type=\"checkbox\" ><label for=\"sk-estimator-id-3\" class=\"sk-toggleable__label fitted sk-toggleable__label-arrow fitted\">&nbsp;TfidfVectorizer<a class=\"sk-estimator-doc-link fitted\" rel=\"noreferrer\" target=\"_blank\" href=\"https://scikit-learn.org/1.5/modules/generated/sklearn.feature_extraction.text.TfidfVectorizer.html\">?<span>Documentation for TfidfVectorizer</span></a></label><div class=\"sk-toggleable__content fitted\"><pre>TfidfVectorizer(stop_words=[&#x27;not&#x27;, &#x27;how&#x27;, &#x27;it&#x27;, &quot;you&#x27;re&quot;, &#x27;d&#x27;, &#x27;then&#x27;, &#x27;yours&#x27;,\n",
       "                            &#x27;are&#x27;, &#x27;more&#x27;, &#x27;before&#x27;, &#x27;some&#x27;, &#x27;no&#x27;, &quot;it&#x27;ll&quot;,\n",
       "                            &#x27;does&#x27;, &#x27;about&#x27;, &#x27;any&#x27;, &quot;couldn&#x27;t&quot;, &#x27;nor&#x27;, &#x27;once&#x27;,\n",
       "                            &#x27;shouldn&#x27;, &quot;that&#x27;ll&quot;, &#x27;am&#x27;, &quot;you&#x27;d&quot;, &#x27;s&#x27;, &#x27;until&#x27;,\n",
       "                            &#x27;whom&#x27;, &#x27;didn&#x27;, &#x27;here&#x27;, &#x27;weren&#x27;, &#x27;by&#x27;, ...])</pre></div> </div></div><div class=\"sk-item\"><div class=\"sk-estimator fitted sk-toggleable\"><input class=\"sk-toggleable__control sk-hidden--visually\" id=\"sk-estimator-id-4\" type=\"checkbox\" ><label for=\"sk-estimator-id-4\" class=\"sk-toggleable__label fitted sk-toggleable__label-arrow fitted\">&nbsp;LogisticRegression<a class=\"sk-estimator-doc-link fitted\" rel=\"noreferrer\" target=\"_blank\" href=\"https://scikit-learn.org/1.5/modules/generated/sklearn.linear_model.LogisticRegression.html\">?<span>Documentation for LogisticRegression</span></a></label><div class=\"sk-toggleable__content fitted\"><pre>LogisticRegression(C=10.0)</pre></div> </div></div></div></div></div></div></div></div></div></div></div>"
      ],
      "text/plain": [
       "GridSearchCV(estimator=Pipeline(steps=[('vectoriser',\n",
       "                                        TfidfVectorizer(stop_words=['not',\n",
       "                                                                    'how', 'it',\n",
       "                                                                    \"you're\",\n",
       "                                                                    'd', 'then',\n",
       "                                                                    'yours',\n",
       "                                                                    'are',\n",
       "                                                                    'more',\n",
       "                                                                    'before',\n",
       "                                                                    'some',\n",
       "                                                                    'no',\n",
       "                                                                    \"it'll\",\n",
       "                                                                    'does',\n",
       "                                                                    'about',\n",
       "                                                                    'any',\n",
       "                                                                    \"couldn't\",\n",
       "                                                                    'nor',\n",
       "                                                                    'once',\n",
       "                                                                    'shouldn',\n",
       "                                                                    \"that'll\",\n",
       "                                                                    'am',\n",
       "                                                                    \"you'd\",\n",
       "                                                                    's',\n",
       "                                                                    'until',\n",
       "                                                                    'whom',\n",
       "                                                                    'didn',\n",
       "                                                                    'here',\n",
       "                                                                    'weren',\n",
       "                                                                    'by', ...])),\n",
       "                                       ('models', LogisticRegression())]),\n",
       "             n_jobs=-1,\n",
       "             param_grid=[{'models': [LogisticRegression()],\n",
       "                          'models__C': [0.1, 1.0, 10.0]},\n",
       "                         {'models': [RandomForestClassifier(random_state=42)],\n",
       "                          'models__max_depth': [3, 5],\n",
       "                          'models__n_estimators': [50, 100]},\n",
       "                         {'models': [<catboost.core.CatBoostClassifier object at 0x000001F48FEE5E20>],\n",
       "                          'models__iterations': [50, 100]}],\n",
       "             scoring='f1')"
      ]
     },
     "execution_count": 18,
     "metadata": {},
     "output_type": "execute_result"
    }
   ],
   "source": [
    "corpus_train = features_train['lemmatize'].values\n",
    "grid_search.fit(corpus_train, target_train)"
   ]
  },
  {
   "cell_type": "code",
   "execution_count": 19,
   "metadata": {
    "scrolled": true
   },
   "outputs": [
    {
     "name": "stdout",
     "output_type": "stream",
     "text": [
      "Лучшая модель:\n",
      "\n",
      " Pipeline(steps=[('vectoriser',\n",
      "                 TfidfVectorizer(stop_words=['not', 'how', 'it', \"you're\", 'd',\n",
      "                                             'then', 'yours', 'are', 'more',\n",
      "                                             'before', 'some', 'no', \"it'll\",\n",
      "                                             'does', 'about', 'any', \"couldn't\",\n",
      "                                             'nor', 'once', 'shouldn',\n",
      "                                             \"that'll\", 'am', \"you'd\", 's',\n",
      "                                             'until', 'whom', 'didn', 'here',\n",
      "                                             'weren', 'by', ...])),\n",
      "                ('models', LogisticRegression(C=10.0))])\n",
      "Параметры лучшей модели: {'models': LogisticRegression(), 'models__C': 10.0}\n",
      "Метрика лучшей модели: 0.7738549631038246\n"
     ]
    }
   ],
   "source": [
    "print('Лучшая модель:\\n\\n', grid_search.best_estimator_)\n",
    "print('Параметры лучшей модели:', grid_search.best_params_)\n",
    "print ('Метрика лучшей модели:', grid_search.best_score_)"
   ]
  },
  {
   "cell_type": "markdown",
   "metadata": {},
   "source": [
    "Лучший результат (f1=0.77) показала модель Логистической регрессии с параметром С=10. Проверим ее на тестовых значениях."
   ]
  },
  {
   "cell_type": "code",
   "execution_count": 20,
   "metadata": {},
   "outputs": [
    {
     "name": "stdout",
     "output_type": "stream",
     "text": [
      "F1: 0.77\n"
     ]
    }
   ],
   "source": [
    "corpus_train = features_train['lemmatize'].values\n",
    "corpus_test = features_test['lemmatize'].values\n",
    "tf_idf_train = vectoriser.fit_transform(corpus_train)\n",
    "tf_idf_test = vectoriser.transform(corpus_test)\n",
    "model = LogisticRegression(C=10.0)\n",
    "model.fit(tf_idf_train, target_train)\n",
    "predict = model.predict(tf_idf_test)\n",
    "print('F1:', round(f1_score(target_test, predict),2))"
   ]
  },
  {
   "cell_type": "markdown",
   "metadata": {},
   "source": [
    "На тестовой выборке модель Логистической регрессии также показала хороший результат. Модель может использоваться для классификации комментариев."
   ]
  },
  {
   "cell_type": "markdown",
   "metadata": {},
   "source": [
    "## Выводы"
   ]
  },
  {
   "cell_type": "markdown",
   "metadata": {},
   "source": [
    "В ходе выполнения задания были загружены данные содержащие комментарии и их оценку позитивности. \n",
    "<br>Исходный файл содержал 159292 комментария. В ходе предобработки удален столбец с номером комментария. Проведена проверка на повторяющиеся строки, таких найдено не было.\n",
    "<br>Распределение целевого признака показало дисбаланс классов: класс 0 представлен 90% значений, на класс 1 приходится всего 10% от общего числа данных. Данный дисбаланс был учтен при делении на выборки применением параметра stratify.\n",
    "<br>Была проведена леммитизация данных, очищение данных от стоп-слов, а также перевод текста в векторное представление. \n",
    "<br>По данным векторного представления были обучены модели: Логистической регрессии, рандомного леса и бустинга. С помощью паплайна было определено, что лучше всего с данной задачей справилась модель Логистической регрессии.\n",
    "<br>На тестовой выборке Логистическая регрессия также повторила хороший результат, удовлетворив условиию задачи f1>0.75. Точнее ее результат на тестовой выборке 0.77"
   ]
  }
 ],
 "metadata": {
  "ExecuteTimeLog": [
   {
    "duration": 364,
    "start_time": "2025-02-09T12:34:22.356Z"
   },
   {
    "duration": 107,
    "start_time": "2025-02-09T12:35:03.189Z"
   },
   {
    "duration": 870,
    "start_time": "2025-02-09T12:35:14.752Z"
   },
   {
    "duration": 900,
    "start_time": "2025-02-09T12:35:31.851Z"
   },
   {
    "duration": 843,
    "start_time": "2025-02-09T12:38:03.031Z"
   },
   {
    "duration": 36,
    "start_time": "2025-02-09T12:44:00.029Z"
   },
   {
    "duration": 15,
    "start_time": "2025-02-09T12:44:19.153Z"
   },
   {
    "duration": 384,
    "start_time": "2025-02-09T12:44:31.842Z"
   },
   {
    "duration": 959,
    "start_time": "2025-02-09T12:44:32.228Z"
   },
   {
    "duration": 47,
    "start_time": "2025-02-09T12:44:33.189Z"
   },
   {
    "duration": 68,
    "start_time": "2025-02-09T13:25:34.394Z"
   },
   {
    "duration": 224,
    "start_time": "2025-02-09T13:25:47.406Z"
   },
   {
    "duration": 69,
    "start_time": "2025-02-09T13:26:01.170Z"
   },
   {
    "duration": 184,
    "start_time": "2025-02-09T13:26:10.548Z"
   },
   {
    "duration": 62,
    "start_time": "2025-02-09T13:28:23.129Z"
   },
   {
    "duration": 504,
    "start_time": "2025-02-09T13:29:17.257Z"
   },
   {
    "duration": 100,
    "start_time": "2025-02-09T13:31:42.072Z"
   },
   {
    "duration": 96,
    "start_time": "2025-02-09T13:35:45.750Z"
   },
   {
    "duration": 3,
    "start_time": "2025-02-09T13:36:12.656Z"
   },
   {
    "duration": 638,
    "start_time": "2025-02-09T13:36:22.905Z"
   },
   {
    "duration": 970,
    "start_time": "2025-02-09T13:36:24.155Z"
   },
   {
    "duration": 44,
    "start_time": "2025-02-09T13:36:28.222Z"
   },
   {
    "duration": 226,
    "start_time": "2025-02-09T13:36:31.099Z"
   },
   {
    "duration": 102,
    "start_time": "2025-02-09T13:36:34.170Z"
   },
   {
    "duration": 3,
    "start_time": "2025-02-09T13:43:29.209Z"
   },
   {
    "duration": 4,
    "start_time": "2025-02-09T13:44:57.215Z"
   },
   {
    "duration": 902,
    "start_time": "2025-02-09T13:44:58.921Z"
   },
   {
    "duration": 46,
    "start_time": "2025-02-09T13:44:59.992Z"
   },
   {
    "duration": 234,
    "start_time": "2025-02-09T13:45:00.996Z"
   },
   {
    "duration": 89,
    "start_time": "2025-02-09T13:45:02.486Z"
   },
   {
    "duration": 3,
    "start_time": "2025-02-09T13:45:04.928Z"
   },
   {
    "duration": 3,
    "start_time": "2025-02-09T13:48:13.765Z"
   },
   {
    "duration": 107,
    "start_time": "2025-02-09T13:49:26.219Z"
   },
   {
    "duration": 3,
    "start_time": "2025-02-09T13:50:16.387Z"
   },
   {
    "duration": 883,
    "start_time": "2025-02-09T13:50:17.683Z"
   },
   {
    "duration": 44,
    "start_time": "2025-02-09T13:50:19.974Z"
   },
   {
    "duration": 225,
    "start_time": "2025-02-09T13:50:20.887Z"
   },
   {
    "duration": 108,
    "start_time": "2025-02-09T13:50:22.515Z"
   },
   {
    "duration": 3,
    "start_time": "2025-02-09T13:50:23.718Z"
   },
   {
    "duration": 3,
    "start_time": "2025-02-09T13:50:24.381Z"
   },
   {
    "duration": 38,
    "start_time": "2025-02-09T13:50:25.251Z"
   },
   {
    "duration": 36,
    "start_time": "2025-02-09T13:50:35.394Z"
   },
   {
    "duration": 3,
    "start_time": "2025-02-09T13:50:40.339Z"
   },
   {
    "duration": 36,
    "start_time": "2025-02-09T13:50:41.025Z"
   },
   {
    "duration": 35,
    "start_time": "2025-02-09T13:50:51.287Z"
   },
   {
    "duration": 3,
    "start_time": "2025-02-09T13:51:43.453Z"
   },
   {
    "duration": 793,
    "start_time": "2025-02-09T13:51:44.158Z"
   },
   {
    "duration": 3,
    "start_time": "2025-02-09T13:53:04.680Z"
   },
   {
    "duration": 3,
    "start_time": "2025-02-09T13:53:05.230Z"
   },
   {
    "duration": 72,
    "start_time": "2025-02-09T13:53:05.888Z"
   },
   {
    "duration": 3,
    "start_time": "2025-02-09T13:53:17.159Z"
   },
   {
    "duration": 797,
    "start_time": "2025-02-09T13:53:18.470Z"
   },
   {
    "duration": 829,
    "start_time": "2025-02-09T13:53:28.835Z"
   },
   {
    "duration": 4,
    "start_time": "2025-02-09T13:55:53.348Z"
   },
   {
    "duration": 782,
    "start_time": "2025-02-09T13:55:55.072Z"
   },
   {
    "duration": 12,
    "start_time": "2025-02-09T13:57:22.015Z"
   },
   {
    "duration": 7,
    "start_time": "2025-02-09T13:59:47.886Z"
   },
   {
    "duration": 3,
    "start_time": "2025-02-09T14:00:11.266Z"
   },
   {
    "duration": 3,
    "start_time": "2025-02-09T14:00:11.887Z"
   },
   {
    "duration": 4104,
    "start_time": "2025-02-09T14:00:12.448Z"
   },
   {
    "duration": 4144,
    "start_time": "2025-02-09T14:00:27.860Z"
   },
   {
    "duration": 4127,
    "start_time": "2025-02-09T14:00:50.694Z"
   },
   {
    "duration": 3,
    "start_time": "2025-02-09T14:00:59.177Z"
   },
   {
    "duration": 4445,
    "start_time": "2025-02-09T14:01:00.087Z"
   },
   {
    "duration": 3,
    "start_time": "2025-02-09T14:01:42.171Z"
   },
   {
    "duration": 4383,
    "start_time": "2025-02-09T14:01:43.109Z"
   },
   {
    "duration": 3,
    "start_time": "2025-02-09T14:01:51.600Z"
   },
   {
    "duration": 4430,
    "start_time": "2025-02-09T14:01:52.658Z"
   },
   {
    "duration": 740,
    "start_time": "2025-02-09T14:03:24.793Z"
   },
   {
    "duration": 858,
    "start_time": "2025-02-09T14:03:26.614Z"
   },
   {
    "duration": 42,
    "start_time": "2025-02-09T14:03:28.763Z"
   },
   {
    "duration": 219,
    "start_time": "2025-02-09T14:03:29.454Z"
   },
   {
    "duration": 91,
    "start_time": "2025-02-09T14:03:30.663Z"
   },
   {
    "duration": 3,
    "start_time": "2025-02-09T14:03:32.152Z"
   },
   {
    "duration": 3,
    "start_time": "2025-02-09T14:03:32.744Z"
   },
   {
    "duration": 4430,
    "start_time": "2025-02-09T14:03:33.254Z"
   },
   {
    "duration": 129,
    "start_time": "2025-02-09T14:08:09.903Z"
   },
   {
    "duration": 44,
    "start_time": "2025-02-09T14:08:54.182Z"
   },
   {
    "duration": 852,
    "start_time": "2025-02-09T14:09:45.327Z"
   },
   {
    "duration": 11,
    "start_time": "2025-02-09T14:10:07.188Z"
   },
   {
    "duration": 122,
    "start_time": "2025-02-09T14:10:33.087Z"
   },
   {
    "duration": 10,
    "start_time": "2025-02-09T14:10:34.161Z"
   },
   {
    "duration": 83,
    "start_time": "2025-02-09T14:16:07.503Z"
   },
   {
    "duration": 848,
    "start_time": "2025-02-09T14:16:09.847Z"
   },
   {
    "duration": 91,
    "start_time": "2025-02-09T14:17:14.261Z"
   },
   {
    "duration": 853,
    "start_time": "2025-02-09T14:17:14.978Z"
   },
   {
    "duration": 60,
    "start_time": "2025-02-09T14:17:18.808Z"
   },
   {
    "duration": 218,
    "start_time": "2025-02-09T14:17:19.662Z"
   },
   {
    "duration": 91,
    "start_time": "2025-02-09T14:17:20.792Z"
   },
   {
    "duration": 4,
    "start_time": "2025-02-09T14:17:21.610Z"
   },
   {
    "duration": 3,
    "start_time": "2025-02-09T14:17:22.049Z"
   },
   {
    "duration": 4417,
    "start_time": "2025-02-09T14:17:22.567Z"
   },
   {
    "duration": 147,
    "start_time": "2025-02-09T14:17:26.986Z"
   },
   {
    "duration": 3,
    "start_time": "2025-02-09T14:17:27.135Z"
   },
   {
    "duration": 18,
    "start_time": "2025-02-09T14:18:24.872Z"
   },
   {
    "duration": 2612,
    "start_time": "2025-02-09T14:19:20.023Z"
   },
   {
    "duration": 1597,
    "start_time": "2025-02-09T14:20:44.256Z"
   },
   {
    "duration": 877,
    "start_time": "2025-02-09T14:20:45.854Z"
   },
   {
    "duration": 51,
    "start_time": "2025-02-09T14:20:49.677Z"
   },
   {
    "duration": 222,
    "start_time": "2025-02-09T14:20:50.555Z"
   },
   {
    "duration": 112,
    "start_time": "2025-02-09T14:20:51.902Z"
   },
   {
    "duration": 3,
    "start_time": "2025-02-09T14:20:52.550Z"
   },
   {
    "duration": 3,
    "start_time": "2025-02-09T14:20:52.906Z"
   },
   {
    "duration": 4451,
    "start_time": "2025-02-09T14:20:53.326Z"
   },
   {
    "duration": 150,
    "start_time": "2025-02-09T14:20:57.778Z"
   },
   {
    "duration": 2325,
    "start_time": "2025-02-09T14:20:57.930Z"
   },
   {
    "duration": 49,
    "start_time": "2025-02-09T14:21:30.571Z"
   },
   {
    "duration": 1614,
    "start_time": "2025-02-09T14:21:38.613Z"
   },
   {
    "duration": 932,
    "start_time": "2025-02-09T14:21:40.229Z"
   },
   {
    "duration": 53,
    "start_time": "2025-02-09T14:21:41.163Z"
   },
   {
    "duration": 233,
    "start_time": "2025-02-09T14:21:41.218Z"
   },
   {
    "duration": 113,
    "start_time": "2025-02-09T14:21:41.452Z"
   },
   {
    "duration": 3,
    "start_time": "2025-02-09T14:21:41.566Z"
   },
   {
    "duration": 6,
    "start_time": "2025-02-09T14:21:41.570Z"
   },
   {
    "duration": 4408,
    "start_time": "2025-02-09T14:21:41.578Z"
   },
   {
    "duration": 145,
    "start_time": "2025-02-09T14:21:45.987Z"
   },
   {
    "duration": 11505,
    "start_time": "2025-02-09T14:21:46.134Z"
   },
   {
    "duration": 3,
    "start_time": "2025-02-09T14:21:57.640Z"
   },
   {
    "duration": 41980,
    "start_time": "2025-02-09T14:21:57.645Z"
   },
   {
    "duration": 5,
    "start_time": "2025-02-09T14:23:29.070Z"
   },
   {
    "duration": 1630,
    "start_time": "2025-02-09T14:23:35.179Z"
   },
   {
    "duration": 904,
    "start_time": "2025-02-09T14:23:36.811Z"
   },
   {
    "duration": 44,
    "start_time": "2025-02-09T14:23:37.717Z"
   },
   {
    "duration": 238,
    "start_time": "2025-02-09T14:23:37.763Z"
   },
   {
    "duration": 108,
    "start_time": "2025-02-09T14:23:38.002Z"
   },
   {
    "duration": 3,
    "start_time": "2025-02-09T14:23:38.112Z"
   },
   {
    "duration": 6,
    "start_time": "2025-02-09T14:23:38.116Z"
   },
   {
    "duration": 4423,
    "start_time": "2025-02-09T14:23:38.123Z"
   },
   {
    "duration": 149,
    "start_time": "2025-02-09T14:23:42.548Z"
   },
   {
    "duration": 11352,
    "start_time": "2025-02-09T14:23:42.698Z"
   },
   {
    "duration": 3,
    "start_time": "2025-02-09T14:23:54.051Z"
   },
   {
    "duration": 40128,
    "start_time": "2025-02-09T14:23:54.056Z"
   },
   {
    "duration": 1660,
    "start_time": "2025-02-09T14:30:53.701Z"
   },
   {
    "duration": 904,
    "start_time": "2025-02-09T14:30:55.363Z"
   },
   {
    "duration": 50,
    "start_time": "2025-02-09T14:30:56.269Z"
   },
   {
    "duration": 234,
    "start_time": "2025-02-09T14:30:56.321Z"
   },
   {
    "duration": 108,
    "start_time": "2025-02-09T14:30:56.557Z"
   },
   {
    "duration": 4,
    "start_time": "2025-02-09T14:30:56.667Z"
   },
   {
    "duration": 5,
    "start_time": "2025-02-09T14:30:56.672Z"
   },
   {
    "duration": 4371,
    "start_time": "2025-02-09T14:30:56.678Z"
   },
   {
    "duration": 149,
    "start_time": "2025-02-09T14:31:01.051Z"
   },
   {
    "duration": 11512,
    "start_time": "2025-02-09T14:31:01.202Z"
   },
   {
    "duration": 3,
    "start_time": "2025-02-09T14:31:12.717Z"
   },
   {
    "duration": 1615,
    "start_time": "2025-02-09T14:31:51.852Z"
   },
   {
    "duration": 894,
    "start_time": "2025-02-09T14:31:53.469Z"
   },
   {
    "duration": 50,
    "start_time": "2025-02-09T14:31:54.365Z"
   },
   {
    "duration": 232,
    "start_time": "2025-02-09T14:31:54.417Z"
   },
   {
    "duration": 115,
    "start_time": "2025-02-09T14:31:54.651Z"
   },
   {
    "duration": 2,
    "start_time": "2025-02-09T14:31:54.768Z"
   },
   {
    "duration": 13,
    "start_time": "2025-02-09T14:31:54.772Z"
   },
   {
    "duration": 4375,
    "start_time": "2025-02-09T14:31:54.787Z"
   },
   {
    "duration": 140,
    "start_time": "2025-02-09T14:31:59.164Z"
   },
   {
    "duration": 11463,
    "start_time": "2025-02-09T14:31:59.306Z"
   },
   {
    "duration": 3,
    "start_time": "2025-02-09T14:32:10.770Z"
   },
   {
    "duration": 1571,
    "start_time": "2025-02-09T14:39:41.365Z"
   },
   {
    "duration": 890,
    "start_time": "2025-02-09T14:39:42.938Z"
   },
   {
    "duration": 38,
    "start_time": "2025-02-09T14:39:43.829Z"
   },
   {
    "duration": 300,
    "start_time": "2025-02-09T14:39:43.869Z"
   },
   {
    "duration": 113,
    "start_time": "2025-02-09T14:39:44.172Z"
   },
   {
    "duration": 2,
    "start_time": "2025-02-09T14:39:44.287Z"
   },
   {
    "duration": 3,
    "start_time": "2025-02-09T14:39:44.291Z"
   },
   {
    "duration": 4354,
    "start_time": "2025-02-09T14:39:44.295Z"
   },
   {
    "duration": 145,
    "start_time": "2025-02-09T14:39:48.650Z"
   },
   {
    "duration": 11652,
    "start_time": "2025-02-09T14:39:48.797Z"
   },
   {
    "duration": 3,
    "start_time": "2025-02-09T14:40:00.452Z"
   },
   {
    "duration": 1690,
    "start_time": "2025-02-09T14:42:48.309Z"
   },
   {
    "duration": 892,
    "start_time": "2025-02-09T14:42:50.001Z"
   },
   {
    "duration": 55,
    "start_time": "2025-02-09T14:42:50.894Z"
   },
   {
    "duration": 230,
    "start_time": "2025-02-09T14:42:50.950Z"
   },
   {
    "duration": 115,
    "start_time": "2025-02-09T14:42:51.182Z"
   },
   {
    "duration": 3,
    "start_time": "2025-02-09T14:42:51.298Z"
   },
   {
    "duration": 9,
    "start_time": "2025-02-09T14:42:51.308Z"
   },
   {
    "duration": 4396,
    "start_time": "2025-02-09T14:42:51.319Z"
   },
   {
    "duration": 147,
    "start_time": "2025-02-09T14:42:55.717Z"
   },
   {
    "duration": 11423,
    "start_time": "2025-02-09T14:42:55.866Z"
   },
   {
    "duration": 3,
    "start_time": "2025-02-09T14:43:07.291Z"
   },
   {
    "duration": 1713,
    "start_time": "2025-02-09T14:47:28.306Z"
   },
   {
    "duration": 894,
    "start_time": "2025-02-09T14:47:30.021Z"
   },
   {
    "duration": 43,
    "start_time": "2025-02-09T14:47:30.917Z"
   },
   {
    "duration": 239,
    "start_time": "2025-02-09T14:47:30.961Z"
   },
   {
    "duration": 106,
    "start_time": "2025-02-09T14:47:31.209Z"
   },
   {
    "duration": 3,
    "start_time": "2025-02-09T14:47:31.317Z"
   },
   {
    "duration": 19,
    "start_time": "2025-02-09T14:47:31.321Z"
   },
   {
    "duration": 4392,
    "start_time": "2025-02-09T14:47:31.342Z"
   },
   {
    "duration": 141,
    "start_time": "2025-02-09T14:47:35.736Z"
   },
   {
    "duration": 11425,
    "start_time": "2025-02-09T14:47:35.878Z"
   },
   {
    "duration": 5,
    "start_time": "2025-02-09T14:47:47.305Z"
   },
   {
    "duration": 1752,
    "start_time": "2025-02-09T14:49:08.284Z"
   },
   {
    "duration": 914,
    "start_time": "2025-02-09T14:49:10.038Z"
   },
   {
    "duration": 57,
    "start_time": "2025-02-09T14:49:10.953Z"
   },
   {
    "duration": 233,
    "start_time": "2025-02-09T14:49:11.012Z"
   },
   {
    "duration": 106,
    "start_time": "2025-02-09T14:49:11.247Z"
   },
   {
    "duration": 3,
    "start_time": "2025-02-09T14:49:11.354Z"
   },
   {
    "duration": 6,
    "start_time": "2025-02-09T14:49:11.358Z"
   },
   {
    "duration": 4408,
    "start_time": "2025-02-09T14:49:11.365Z"
   },
   {
    "duration": 148,
    "start_time": "2025-02-09T14:49:15.774Z"
   },
   {
    "duration": 4729,
    "start_time": "2025-02-12T14:41:09.375Z"
   },
   {
    "duration": 168,
    "start_time": "2025-02-12T14:41:14.106Z"
   },
   {
    "duration": 1922,
    "start_time": "2025-02-12T15:08:52.580Z"
   },
   {
    "duration": 180,
    "start_time": "2025-02-12T15:08:55.929Z"
   },
   {
    "duration": 901,
    "start_time": "2025-02-12T15:09:02.180Z"
   },
   {
    "duration": 45,
    "start_time": "2025-02-12T15:23:14.968Z"
   },
   {
    "duration": 246,
    "start_time": "2025-02-12T15:23:16.541Z"
   },
   {
    "duration": 129,
    "start_time": "2025-02-12T15:23:18.200Z"
   },
   {
    "duration": 4,
    "start_time": "2025-02-12T15:23:34.063Z"
   },
   {
    "duration": 13,
    "start_time": "2025-02-12T15:26:44.186Z"
   },
   {
    "duration": 5,
    "start_time": "2025-02-12T15:27:49.347Z"
   },
   {
    "duration": 857,
    "start_time": "2025-02-12T15:27:52.538Z"
   },
   {
    "duration": 42,
    "start_time": "2025-02-12T15:27:57.571Z"
   },
   {
    "duration": 222,
    "start_time": "2025-02-12T15:27:59.170Z"
   },
   {
    "duration": 91,
    "start_time": "2025-02-12T15:28:00.708Z"
   },
   {
    "duration": 3,
    "start_time": "2025-02-12T15:28:04.158Z"
   },
   {
    "duration": 3,
    "start_time": "2025-02-12T15:57:18.093Z"
   },
   {
    "duration": 3,
    "start_time": "2025-02-12T15:57:20.121Z"
   },
   {
    "duration": 4379,
    "start_time": "2025-02-12T15:57:30.992Z"
   },
   {
    "duration": 5458,
    "start_time": "2025-02-12T15:58:37.911Z"
   },
   {
    "duration": 4799,
    "start_time": "2025-02-12T15:58:54.123Z"
   },
   {
    "duration": 1636,
    "start_time": "2025-02-12T15:59:02.017Z"
   },
   {
    "duration": 906,
    "start_time": "2025-02-12T15:59:07.643Z"
   },
   {
    "duration": 43,
    "start_time": "2025-02-12T15:59:15.475Z"
   },
   {
    "duration": 219,
    "start_time": "2025-02-12T15:59:17.907Z"
   },
   {
    "duration": 109,
    "start_time": "2025-02-12T15:59:20.365Z"
   },
   {
    "duration": 3,
    "start_time": "2025-02-12T15:59:23.407Z"
   },
   {
    "duration": 3,
    "start_time": "2025-02-12T15:59:27.664Z"
   },
   {
    "duration": 4446,
    "start_time": "2025-02-12T15:59:34.345Z"
   },
   {
    "duration": 5,
    "start_time": "2025-02-12T16:04:00.397Z"
   },
   {
    "duration": 3,
    "start_time": "2025-02-12T16:06:49.525Z"
   },
   {
    "duration": 1688,
    "start_time": "2025-02-12T16:13:44.750Z"
   },
   {
    "duration": 870,
    "start_time": "2025-02-12T16:13:48.613Z"
   },
   {
    "duration": 41,
    "start_time": "2025-02-12T16:13:52.386Z"
   },
   {
    "duration": 216,
    "start_time": "2025-02-12T16:13:54.405Z"
   },
   {
    "duration": 103,
    "start_time": "2025-02-12T16:13:56.703Z"
   },
   {
    "duration": 3,
    "start_time": "2025-02-12T16:14:03.871Z"
   },
   {
    "duration": 4,
    "start_time": "2025-02-12T16:14:06.437Z"
   },
   {
    "duration": 4,
    "start_time": "2025-02-12T16:14:08.053Z"
   },
   {
    "duration": 4466,
    "start_time": "2025-02-12T16:14:12.779Z"
   },
   {
    "duration": 4,
    "start_time": "2025-02-12T16:20:59.793Z"
   },
   {
    "duration": 4404,
    "start_time": "2025-02-12T16:21:03.794Z"
   },
   {
    "duration": 127,
    "start_time": "2025-02-12T16:22:29.664Z"
   },
   {
    "duration": 16,
    "start_time": "2025-02-12T16:25:13.096Z"
   },
   {
    "duration": 5,
    "start_time": "2025-02-12T16:26:12.394Z"
   },
   {
    "duration": 881,
    "start_time": "2025-02-12T16:26:15.078Z"
   },
   {
    "duration": 45,
    "start_time": "2025-02-12T16:26:17.833Z"
   },
   {
    "duration": 209,
    "start_time": "2025-02-12T16:26:19.090Z"
   },
   {
    "duration": 94,
    "start_time": "2025-02-12T16:26:21.110Z"
   },
   {
    "duration": 3,
    "start_time": "2025-02-12T16:26:22.914Z"
   },
   {
    "duration": 3,
    "start_time": "2025-02-12T16:26:23.778Z"
   },
   {
    "duration": 3,
    "start_time": "2025-02-12T16:26:26.043Z"
   },
   {
    "duration": 28,
    "start_time": "2025-02-12T16:26:30.765Z"
   },
   {
    "duration": 21,
    "start_time": "2025-02-12T16:29:24.214Z"
   },
   {
    "duration": 3,
    "start_time": "2025-02-12T16:30:13.797Z"
   },
   {
    "duration": 22,
    "start_time": "2025-02-12T16:30:16.730Z"
   },
   {
    "duration": 4,
    "start_time": "2025-02-12T16:31:36.994Z"
   },
   {
    "duration": 3,
    "start_time": "2025-02-12T16:31:38.195Z"
   },
   {
    "duration": 23,
    "start_time": "2025-02-12T16:31:42.315Z"
   },
   {
    "duration": 41,
    "start_time": "2025-02-12T16:33:05.827Z"
   },
   {
    "duration": 17,
    "start_time": "2025-02-12T16:34:21.622Z"
   },
   {
    "duration": 859,
    "start_time": "2025-02-12T16:34:24.185Z"
   },
   {
    "duration": 41,
    "start_time": "2025-02-12T16:34:26.084Z"
   },
   {
    "duration": 217,
    "start_time": "2025-02-12T16:34:27.061Z"
   },
   {
    "duration": 97,
    "start_time": "2025-02-12T16:34:28.508Z"
   },
   {
    "duration": 3,
    "start_time": "2025-02-12T16:34:30.059Z"
   },
   {
    "duration": 3,
    "start_time": "2025-02-12T16:34:30.695Z"
   },
   {
    "duration": 3,
    "start_time": "2025-02-12T16:34:31.401Z"
   },
   {
    "duration": 71,
    "start_time": "2025-02-12T16:34:34.042Z"
   },
   {
    "duration": 59,
    "start_time": "2025-02-12T16:35:11.766Z"
   },
   {
    "duration": 77,
    "start_time": "2025-02-12T16:35:34.652Z"
   },
   {
    "duration": 4975,
    "start_time": "2025-02-12T16:38:04.986Z"
   },
   {
    "duration": 4830,
    "start_time": "2025-02-12T16:38:15.944Z"
   },
   {
    "duration": 4759,
    "start_time": "2025-02-12T16:38:47.233Z"
   },
   {
    "duration": 1603,
    "start_time": "2025-02-12T16:38:57.877Z"
   },
   {
    "duration": 290,
    "start_time": "2025-02-12T16:39:06.024Z"
   },
   {
    "duration": 2420,
    "start_time": "2025-02-12T16:39:32.892Z"
   },
   {
    "duration": 902,
    "start_time": "2025-02-12T16:39:37.303Z"
   },
   {
    "duration": 42,
    "start_time": "2025-02-12T16:39:39.282Z"
   },
   {
    "duration": 231,
    "start_time": "2025-02-12T16:39:40.431Z"
   },
   {
    "duration": 104,
    "start_time": "2025-02-12T16:39:42.202Z"
   },
   {
    "duration": 3,
    "start_time": "2025-02-12T16:39:44.629Z"
   },
   {
    "duration": 3,
    "start_time": "2025-02-12T16:39:45.539Z"
   },
   {
    "duration": 4,
    "start_time": "2025-02-12T16:39:47.221Z"
   },
   {
    "duration": 1643,
    "start_time": "2025-02-12T16:40:56.524Z"
   },
   {
    "duration": 218,
    "start_time": "2025-02-12T16:40:58.762Z"
   },
   {
    "duration": 10,
    "start_time": "2025-02-12T16:40:59.988Z"
   },
   {
    "duration": 904,
    "start_time": "2025-02-12T16:41:02.075Z"
   },
   {
    "duration": 45,
    "start_time": "2025-02-12T16:41:06.144Z"
   },
   {
    "duration": 222,
    "start_time": "2025-02-12T16:41:07.398Z"
   },
   {
    "duration": 107,
    "start_time": "2025-02-12T16:41:09.590Z"
   },
   {
    "duration": 4,
    "start_time": "2025-02-12T16:41:11.593Z"
   },
   {
    "duration": 4,
    "start_time": "2025-02-12T16:41:12.384Z"
   },
   {
    "duration": 3,
    "start_time": "2025-02-12T16:41:13.328Z"
   },
   {
    "duration": 1209856,
    "start_time": "2025-02-12T16:41:16.403Z"
   },
   {
    "duration": 3,
    "start_time": "2025-02-12T17:03:06.875Z"
   },
   {
    "duration": 4,
    "start_time": "2025-02-12T17:03:07.856Z"
   },
   {
    "duration": 3,
    "start_time": "2025-02-12T17:03:09.230Z"
   },
   {
    "duration": 203,
    "start_time": "2025-02-12T17:03:14.191Z"
   },
   {
    "duration": 3,
    "start_time": "2025-02-12T17:03:41.909Z"
   },
   {
    "duration": 3,
    "start_time": "2025-02-12T17:03:42.802Z"
   },
   {
    "duration": 74,
    "start_time": "2025-02-12T17:03:45.508Z"
   },
   {
    "duration": 3,
    "start_time": "2025-02-12T17:04:44.846Z"
   },
   {
    "duration": 3,
    "start_time": "2025-02-12T17:04:45.369Z"
   },
   {
    "duration": 3,
    "start_time": "2025-02-12T17:04:46.011Z"
   },
   {
    "duration": 1695,
    "start_time": "2025-02-12T17:42:18.649Z"
   },
   {
    "duration": 236,
    "start_time": "2025-02-12T17:42:20.346Z"
   },
   {
    "duration": 10,
    "start_time": "2025-02-12T17:42:21.239Z"
   },
   {
    "duration": 888,
    "start_time": "2025-02-12T17:42:22.287Z"
   },
   {
    "duration": 45,
    "start_time": "2025-02-12T17:42:24.493Z"
   },
   {
    "duration": 230,
    "start_time": "2025-02-12T17:42:26.119Z"
   },
   {
    "duration": 105,
    "start_time": "2025-02-12T17:42:28.089Z"
   },
   {
    "duration": 3,
    "start_time": "2025-02-12T17:42:30.990Z"
   },
   {
    "duration": 4,
    "start_time": "2025-02-12T17:42:31.795Z"
   },
   {
    "duration": 4,
    "start_time": "2025-02-12T17:42:33.107Z"
   },
   {
    "duration": 93443,
    "start_time": "2025-02-12T17:42:36.059Z"
   },
   {
    "duration": 125,
    "start_time": "2025-02-12T17:45:30.793Z"
   },
   {
    "duration": 216,
    "start_time": "2025-02-12T17:46:16.909Z"
   },
   {
    "duration": 4,
    "start_time": "2025-02-12T17:49:05.655Z"
   },
   {
    "duration": 4,
    "start_time": "2025-02-12T17:49:06.622Z"
   },
   {
    "duration": 3,
    "start_time": "2025-02-12T17:49:07.453Z"
   },
   {
    "duration": 90,
    "start_time": "2025-02-12T17:49:10.819Z"
   },
   {
    "duration": 112,
    "start_time": "2025-02-12T17:50:10.710Z"
   },
   {
    "duration": 5218,
    "start_time": "2025-02-13T12:19:22.777Z"
   },
   {
    "duration": 1983,
    "start_time": "2025-02-13T12:19:27.997Z"
   },
   {
    "duration": 272,
    "start_time": "2025-02-13T12:19:29.982Z"
   },
   {
    "duration": 487,
    "start_time": "2025-02-13T12:19:30.257Z"
   },
   {
    "duration": 908,
    "start_time": "2025-02-13T12:19:30.746Z"
   },
   {
    "duration": 55,
    "start_time": "2025-02-13T12:19:31.656Z"
   },
   {
    "duration": 242,
    "start_time": "2025-02-13T12:19:31.712Z"
   },
   {
    "duration": 116,
    "start_time": "2025-02-13T12:19:31.956Z"
   },
   {
    "duration": 4,
    "start_time": "2025-02-13T12:19:32.074Z"
   },
   {
    "duration": 18,
    "start_time": "2025-02-13T12:19:32.080Z"
   },
   {
    "duration": 4,
    "start_time": "2025-02-13T12:19:32.101Z"
   },
   {
    "duration": 21934,
    "start_time": "2025-02-13T12:19:32.106Z"
   },
   {
    "duration": 0,
    "start_time": "2025-02-13T12:19:54.042Z"
   },
   {
    "duration": 0,
    "start_time": "2025-02-13T12:19:54.043Z"
   },
   {
    "duration": 0,
    "start_time": "2025-02-13T12:19:54.044Z"
   },
   {
    "duration": 0,
    "start_time": "2025-02-13T12:19:54.045Z"
   },
   {
    "duration": 0,
    "start_time": "2025-02-13T12:19:54.047Z"
   },
   {
    "duration": 0,
    "start_time": "2025-02-13T12:19:54.047Z"
   },
   {
    "duration": 0,
    "start_time": "2025-02-13T12:19:54.048Z"
   },
   {
    "duration": 0,
    "start_time": "2025-02-13T12:19:54.050Z"
   },
   {
    "duration": 4932,
    "start_time": "2025-02-13T12:20:50.003Z"
   },
   {
    "duration": 1699,
    "start_time": "2025-02-13T12:20:54.937Z"
   },
   {
    "duration": 253,
    "start_time": "2025-02-13T12:20:56.637Z"
   },
   {
    "duration": 11,
    "start_time": "2025-02-13T12:20:56.892Z"
   },
   {
    "duration": 910,
    "start_time": "2025-02-13T12:20:56.905Z"
   },
   {
    "duration": 44,
    "start_time": "2025-02-13T12:20:57.816Z"
   },
   {
    "duration": 246,
    "start_time": "2025-02-13T12:20:57.861Z"
   },
   {
    "duration": 112,
    "start_time": "2025-02-13T12:20:58.108Z"
   },
   {
    "duration": 3,
    "start_time": "2025-02-13T12:20:58.222Z"
   },
   {
    "duration": 57,
    "start_time": "2025-02-13T12:20:58.226Z"
   },
   {
    "duration": 23,
    "start_time": "2025-02-13T12:20:58.285Z"
   },
   {
    "duration": 1216282,
    "start_time": "2025-02-13T12:20:58.310Z"
   },
   {
    "duration": 0,
    "start_time": "2025-02-13T12:41:14.595Z"
   },
   {
    "duration": 0,
    "start_time": "2025-02-13T12:41:14.601Z"
   },
   {
    "duration": 1,
    "start_time": "2025-02-13T12:41:14.602Z"
   },
   {
    "duration": 0,
    "start_time": "2025-02-13T12:41:14.604Z"
   },
   {
    "duration": 0,
    "start_time": "2025-02-13T12:41:14.606Z"
   },
   {
    "duration": 0,
    "start_time": "2025-02-13T12:41:14.607Z"
   },
   {
    "duration": 0,
    "start_time": "2025-02-13T12:41:14.609Z"
   },
   {
    "duration": 0,
    "start_time": "2025-02-13T12:41:14.611Z"
   },
   {
    "duration": 4750,
    "start_time": "2025-02-13T12:43:38.796Z"
   },
   {
    "duration": 1737,
    "start_time": "2025-02-13T12:43:43.549Z"
   },
   {
    "duration": 175,
    "start_time": "2025-02-13T12:43:45.287Z"
   },
   {
    "duration": 9,
    "start_time": "2025-02-13T12:43:45.464Z"
   },
   {
    "duration": 1009,
    "start_time": "2025-02-13T12:43:45.474Z"
   },
   {
    "duration": 52,
    "start_time": "2025-02-13T12:43:46.485Z"
   },
   {
    "duration": 241,
    "start_time": "2025-02-13T12:43:46.538Z"
   },
   {
    "duration": 121,
    "start_time": "2025-02-13T12:43:46.781Z"
   },
   {
    "duration": 3,
    "start_time": "2025-02-13T12:43:46.903Z"
   },
   {
    "duration": 9,
    "start_time": "2025-02-13T12:43:46.908Z"
   },
   {
    "duration": 18,
    "start_time": "2025-02-13T12:43:46.918Z"
   },
   {
    "duration": 1206847,
    "start_time": "2025-02-13T12:43:46.938Z"
   },
   {
    "duration": 143,
    "start_time": "2025-02-13T13:03:53.787Z"
   },
   {
    "duration": 2050,
    "start_time": "2025-02-13T13:03:53.932Z"
   },
   {
    "duration": 0,
    "start_time": "2025-02-13T13:03:55.984Z"
   },
   {
    "duration": 0,
    "start_time": "2025-02-13T13:03:55.985Z"
   },
   {
    "duration": 0,
    "start_time": "2025-02-13T13:03:55.986Z"
   },
   {
    "duration": 0,
    "start_time": "2025-02-13T13:03:55.987Z"
   },
   {
    "duration": 0,
    "start_time": "2025-02-13T13:03:55.989Z"
   },
   {
    "duration": 0,
    "start_time": "2025-02-13T13:03:55.990Z"
   },
   {
    "duration": 5160,
    "start_time": "2025-02-13T14:37:06.204Z"
   },
   {
    "duration": 1825,
    "start_time": "2025-02-13T14:37:11.367Z"
   },
   {
    "duration": 274,
    "start_time": "2025-02-13T14:37:13.194Z"
   },
   {
    "duration": 281,
    "start_time": "2025-02-13T14:37:13.469Z"
   },
   {
    "duration": 924,
    "start_time": "2025-02-13T14:37:13.752Z"
   },
   {
    "duration": 50,
    "start_time": "2025-02-13T14:37:14.677Z"
   },
   {
    "duration": 246,
    "start_time": "2025-02-13T14:37:14.729Z"
   },
   {
    "duration": 122,
    "start_time": "2025-02-13T14:37:14.977Z"
   },
   {
    "duration": 3,
    "start_time": "2025-02-13T14:37:15.101Z"
   },
   {
    "duration": 13,
    "start_time": "2025-02-13T14:37:15.105Z"
   },
   {
    "duration": 3,
    "start_time": "2025-02-13T14:37:15.120Z"
   },
   {
    "duration": 1315181,
    "start_time": "2025-02-13T14:37:15.125Z"
   },
   {
    "duration": 163,
    "start_time": "2025-02-13T14:59:10.318Z"
   },
   {
    "duration": 8302,
    "start_time": "2025-02-13T14:59:10.484Z"
   },
   {
    "duration": 4,
    "start_time": "2025-02-13T14:59:18.787Z"
   },
   {
    "duration": 4,
    "start_time": "2025-02-13T14:59:18.793Z"
   },
   {
    "duration": 7,
    "start_time": "2025-02-13T14:59:18.815Z"
   },
   {
    "duration": 709,
    "start_time": "2025-02-13T14:59:18.829Z"
   },
   {
    "duration": 0,
    "start_time": "2025-02-13T14:59:19.541Z"
   },
   {
    "duration": 0,
    "start_time": "2025-02-13T14:59:19.542Z"
   },
   {
    "duration": 82,
    "start_time": "2025-02-13T15:25:09.818Z"
   },
   {
    "duration": 8289,
    "start_time": "2025-02-13T15:25:17.085Z"
   },
   {
    "duration": 3,
    "start_time": "2025-02-13T15:25:35.867Z"
   },
   {
    "duration": 4,
    "start_time": "2025-02-13T15:25:36.938Z"
   },
   {
    "duration": 3,
    "start_time": "2025-02-13T15:25:37.774Z"
   },
   {
    "duration": 567,
    "start_time": "2025-02-13T15:25:40.112Z"
   },
   {
    "duration": 92,
    "start_time": "2025-02-13T15:26:35.220Z"
   },
   {
    "duration": 956,
    "start_time": "2025-02-13T15:27:01.988Z"
   },
   {
    "duration": 88,
    "start_time": "2025-02-13T15:28:54.271Z"
   },
   {
    "duration": 3,
    "start_time": "2025-02-13T15:28:58.478Z"
   },
   {
    "duration": 4,
    "start_time": "2025-02-13T15:28:59.456Z"
   },
   {
    "duration": 4,
    "start_time": "2025-02-13T15:29:00.528Z"
   },
   {
    "duration": 1036,
    "start_time": "2025-02-13T15:29:01.600Z"
   },
   {
    "duration": 12,
    "start_time": "2025-02-13T15:32:57.886Z"
   },
   {
    "duration": 87,
    "start_time": "2025-02-13T15:33:18.421Z"
   },
   {
    "duration": 3,
    "start_time": "2025-02-13T15:33:20.550Z"
   },
   {
    "duration": 11,
    "start_time": "2025-02-13T15:33:21.869Z"
   },
   {
    "duration": 4,
    "start_time": "2025-02-13T15:37:21.892Z"
   },
   {
    "duration": 3,
    "start_time": "2025-02-13T15:37:23.668Z"
   },
   {
    "duration": 1023,
    "start_time": "2025-02-13T15:37:36.246Z"
   },
   {
    "duration": 86,
    "start_time": "2025-02-13T15:38:25.453Z"
   },
   {
    "duration": 4,
    "start_time": "2025-02-13T15:38:32.998Z"
   },
   {
    "duration": 3,
    "start_time": "2025-02-13T15:38:33.500Z"
   },
   {
    "duration": 3,
    "start_time": "2025-02-13T15:38:34.523Z"
   },
   {
    "duration": 3,
    "start_time": "2025-02-13T15:47:53.728Z"
   },
   {
    "duration": 3,
    "start_time": "2025-02-13T15:48:08.173Z"
   },
   {
    "duration": 1015,
    "start_time": "2025-02-13T15:48:32.200Z"
   },
   {
    "duration": 86,
    "start_time": "2025-02-13T15:53:46.978Z"
   },
   {
    "duration": 5359,
    "start_time": "2025-02-13T15:54:58.625Z"
   },
   {
    "duration": 1807,
    "start_time": "2025-02-13T15:55:03.987Z"
   },
   {
    "duration": 254,
    "start_time": "2025-02-13T15:55:05.797Z"
   },
   {
    "duration": 10,
    "start_time": "2025-02-13T15:55:06.054Z"
   },
   {
    "duration": 1011,
    "start_time": "2025-02-13T15:55:06.065Z"
   },
   {
    "duration": 54,
    "start_time": "2025-02-13T15:55:07.078Z"
   },
   {
    "duration": 248,
    "start_time": "2025-02-13T15:55:07.134Z"
   },
   {
    "duration": 118,
    "start_time": "2025-02-13T15:55:07.384Z"
   },
   {
    "duration": 3,
    "start_time": "2025-02-13T15:55:07.504Z"
   },
   {
    "duration": 6,
    "start_time": "2025-02-13T15:55:07.508Z"
   },
   {
    "duration": 6,
    "start_time": "2025-02-13T15:55:07.516Z"
   },
   {
    "duration": 5211,
    "start_time": "2025-02-13T15:58:59.254Z"
   },
   {
    "duration": 1714,
    "start_time": "2025-02-13T15:59:04.468Z"
   },
   {
    "duration": 717,
    "start_time": "2025-02-13T15:59:06.184Z"
   },
   {
    "duration": 10,
    "start_time": "2025-02-13T15:59:06.903Z"
   },
   {
    "duration": 950,
    "start_time": "2025-02-13T15:59:06.916Z"
   },
   {
    "duration": 49,
    "start_time": "2025-02-13T15:59:07.868Z"
   },
   {
    "duration": 248,
    "start_time": "2025-02-13T15:59:07.919Z"
   },
   {
    "duration": 122,
    "start_time": "2025-02-13T15:59:08.169Z"
   },
   {
    "duration": 3,
    "start_time": "2025-02-13T15:59:08.293Z"
   },
   {
    "duration": 17,
    "start_time": "2025-02-13T15:59:08.297Z"
   },
   {
    "duration": 3,
    "start_time": "2025-02-13T15:59:08.315Z"
   },
   {
    "duration": 1315009,
    "start_time": "2025-02-13T15:59:08.320Z"
   },
   {
    "duration": 31,
    "start_time": "2025-02-13T16:21:03.331Z"
   },
   {
    "duration": 83,
    "start_time": "2025-02-13T16:21:03.365Z"
   },
   {
    "duration": 3,
    "start_time": "2025-02-13T16:21:03.450Z"
   },
   {
    "duration": 4,
    "start_time": "2025-02-13T16:21:03.455Z"
   },
   {
    "duration": 26,
    "start_time": "2025-02-13T16:21:03.461Z"
   },
   {
    "duration": 956,
    "start_time": "2025-02-13T16:21:03.488Z"
   },
   {
    "duration": 0,
    "start_time": "2025-02-13T16:21:04.446Z"
   },
   {
    "duration": 0,
    "start_time": "2025-02-13T16:21:04.447Z"
   },
   {
    "duration": 0,
    "start_time": "2025-02-13T16:21:04.448Z"
   },
   {
    "duration": 4,
    "start_time": "2025-02-13T16:22:51.282Z"
   },
   {
    "duration": 4,
    "start_time": "2025-02-13T16:22:52.117Z"
   },
   {
    "duration": 3,
    "start_time": "2025-02-13T16:22:53.327Z"
   },
   {
    "duration": 644,
    "start_time": "2025-02-13T16:22:54.347Z"
   },
   {
    "duration": 3,
    "start_time": "2025-02-13T16:23:11.825Z"
   },
   {
    "duration": 4,
    "start_time": "2025-02-13T16:23:23.768Z"
   },
   {
    "duration": 3,
    "start_time": "2025-02-13T16:23:24.708Z"
   },
   {
    "duration": 701,
    "start_time": "2025-02-13T16:23:25.408Z"
   },
   {
    "duration": 403,
    "start_time": "2025-02-13T16:28:37.930Z"
   },
   {
    "duration": 2334141,
    "start_time": "2025-02-13T16:30:04.674Z"
   },
   {
    "duration": 9,
    "start_time": "2025-02-13T17:09:19.550Z"
   },
   {
    "duration": 56065,
    "start_time": "2025-02-13T17:13:44.151Z"
   },
   {
    "duration": 55450,
    "start_time": "2025-02-13T17:16:05.772Z"
   }
  ],
  "kernelspec": {
   "display_name": "Python 3 (ipykernel)",
   "language": "python",
   "name": "python3"
  },
  "language_info": {
   "codemirror_mode": {
    "name": "ipython",
    "version": 3
   },
   "file_extension": ".py",
   "mimetype": "text/x-python",
   "name": "python",
   "nbconvert_exporter": "python",
   "pygments_lexer": "ipython3",
   "version": "3.12.7"
  },
  "toc": {
   "base_numbering": 1,
   "nav_menu": {},
   "number_sections": true,
   "sideBar": true,
   "skip_h1_title": true,
   "title_cell": "Содержание",
   "title_sidebar": "Contents",
   "toc_cell": true,
   "toc_position": {
    "height": "calc(100% - 180px)",
    "left": "10px",
    "top": "150px",
    "width": "302.391px"
   },
   "toc_section_display": true,
   "toc_window_display": false
  }
 },
 "nbformat": 4,
 "nbformat_minor": 4
}
